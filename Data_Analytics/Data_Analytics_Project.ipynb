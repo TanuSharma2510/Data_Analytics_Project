{
 "cells": [
  {
   "cell_type": "code",
   "execution_count": 1,
   "metadata": {},
   "outputs": [],
   "source": [
    "#-------------------------------------------------------------------------------------------------------------------------------\n",
    "import pandas as pd                                                 # Importing package pandas (For Panel Data Analysis)\n",
    "from pandas_profiling import ProfileReport                          # Import Pandas Profiling (To generate Univariate Analysis)\n",
    "#-------------------------------------------------------------------------------------------------------------------------------\n",
    "import numpy as np                                                  # Importing package numpys (For Numerical Python)\n",
    "#-------------------------------------------------------------------------------------------------------------------------------\n",
    "import matplotlib.pyplot as plt                                     # Importing pyplot interface to use matplotlib\n",
    "import seaborn as sns                                               # Importing seaborn library for interactive visualization\n",
    "%matplotlib inline\n",
    "#-------------------------------------------------------------------------------------------------------------------------------\n",
    "import scipy as sp                                                  # Importing library for scientific calculations\n",
    "#-------------------------------------------------------------------------------------------------------------------------------\n",
    "import warnings                                                     # Importing warning to disable runtime warnings\n",
    "warnings.filterwarnings(\"ignore\")           \n",
    "# Warnings will appear only once"
   ]
  },
  {
   "cell_type": "code",
   "execution_count": 2,
   "metadata": {},
   "outputs": [
    {
     "name": "stdout",
     "output_type": "stream",
     "text": [
      "Data Shape: (3252950, 7)\n"
     ]
    },
    {
     "data": {
      "text/html": [
       "<div>\n",
       "<style scoped>\n",
       "    .dataframe tbody tr th:only-of-type {\n",
       "        vertical-align: middle;\n",
       "    }\n",
       "\n",
       "    .dataframe tbody tr th {\n",
       "        vertical-align: top;\n",
       "    }\n",
       "\n",
       "    .dataframe thead th {\n",
       "        text-align: right;\n",
       "    }\n",
       "</style>\n",
       "<table border=\"1\" class=\"dataframe\">\n",
       "  <thead>\n",
       "    <tr style=\"text-align: right;\">\n",
       "      <th></th>\n",
       "      <th>event_id</th>\n",
       "      <th>device_id</th>\n",
       "      <th>timestamp</th>\n",
       "      <th>longitude</th>\n",
       "      <th>latitude</th>\n",
       "      <th>city</th>\n",
       "      <th>state</th>\n",
       "    </tr>\n",
       "  </thead>\n",
       "  <tbody>\n",
       "    <tr>\n",
       "      <th>0</th>\n",
       "      <td>2765368</td>\n",
       "      <td>2.973348e+18</td>\n",
       "      <td>2016-05-07 22:52:05</td>\n",
       "      <td>77.225676</td>\n",
       "      <td>28.730140</td>\n",
       "      <td>Delhi</td>\n",
       "      <td>Delhi</td>\n",
       "    </tr>\n",
       "    <tr>\n",
       "      <th>1</th>\n",
       "      <td>2955066</td>\n",
       "      <td>4.734221e+18</td>\n",
       "      <td>2016-05-01 20:44:16</td>\n",
       "      <td>88.388361</td>\n",
       "      <td>22.660325</td>\n",
       "      <td>Calcutta</td>\n",
       "      <td>WestBengal</td>\n",
       "    </tr>\n",
       "    <tr>\n",
       "      <th>2</th>\n",
       "      <td>605968</td>\n",
       "      <td>-3.264500e+18</td>\n",
       "      <td>2016-05-02 14:23:04</td>\n",
       "      <td>77.256809</td>\n",
       "      <td>28.757906</td>\n",
       "      <td>Delhi</td>\n",
       "      <td>Delhi</td>\n",
       "    </tr>\n",
       "    <tr>\n",
       "      <th>3</th>\n",
       "      <td>448114</td>\n",
       "      <td>5.731369e+18</td>\n",
       "      <td>2016-05-03 13:21:16</td>\n",
       "      <td>80.343613</td>\n",
       "      <td>13.153332</td>\n",
       "      <td>Chennai</td>\n",
       "      <td>TamilNadu</td>\n",
       "    </tr>\n",
       "    <tr>\n",
       "      <th>4</th>\n",
       "      <td>665740</td>\n",
       "      <td>3.388880e+17</td>\n",
       "      <td>2016-05-06 03:51:05</td>\n",
       "      <td>85.997745</td>\n",
       "      <td>23.842609</td>\n",
       "      <td>Bokaro</td>\n",
       "      <td>Jharkhand</td>\n",
       "    </tr>\n",
       "  </tbody>\n",
       "</table>\n",
       "</div>"
      ],
      "text/plain": [
       "   event_id     device_id            timestamp  longitude   latitude  \\\n",
       "0   2765368  2.973348e+18  2016-05-07 22:52:05  77.225676  28.730140   \n",
       "1   2955066  4.734221e+18  2016-05-01 20:44:16  88.388361  22.660325   \n",
       "2    605968 -3.264500e+18  2016-05-02 14:23:04  77.256809  28.757906   \n",
       "3    448114  5.731369e+18  2016-05-03 13:21:16  80.343613  13.153332   \n",
       "4    665740  3.388880e+17  2016-05-06 03:51:05  85.997745  23.842609   \n",
       "\n",
       "       city       state  \n",
       "0     Delhi       Delhi  \n",
       "1  Calcutta  WestBengal  \n",
       "2     Delhi       Delhi  \n",
       "3   Chennai   TamilNadu  \n",
       "4    Bokaro   Jharkhand  "
      ]
     },
     "execution_count": 2,
     "metadata": {},
     "output_type": "execute_result"
    }
   ],
   "source": [
    "data = pd.read_csv(filepath_or_buffer = \"events_data.csv\")\n",
    "print('Data Shape:', data.shape)\n",
    "data.head()"
   ]
  },
  {
   "cell_type": "code",
   "execution_count": 3,
   "metadata": {
    "scrolled": false
   },
   "outputs": [
    {
     "name": "stdout",
     "output_type": "stream",
     "text": [
      "<class 'pandas.core.frame.DataFrame'>\n",
      "RangeIndex: 3252950 entries, 0 to 3252949\n",
      "Data columns (total 7 columns):\n",
      " #   Column     Dtype  \n",
      "---  ------     -----  \n",
      " 0   event_id   int64  \n",
      " 1   device_id  float64\n",
      " 2   timestamp  object \n",
      " 3   longitude  float64\n",
      " 4   latitude   float64\n",
      " 5   city       object \n",
      " 6   state      object \n",
      "dtypes: float64(3), int64(1), object(3)\n",
      "memory usage: 173.7+ MB\n"
     ]
    }
   ],
   "source": [
    "data.info() # Decie ID change to integer in all only main data set"
   ]
  },
  {
   "cell_type": "code",
   "execution_count": 4,
   "metadata": {},
   "outputs": [
    {
     "data": {
      "text/html": [
       "<div>\n",
       "<style scoped>\n",
       "    .dataframe tbody tr th:only-of-type {\n",
       "        vertical-align: middle;\n",
       "    }\n",
       "\n",
       "    .dataframe tbody tr th {\n",
       "        vertical-align: top;\n",
       "    }\n",
       "\n",
       "    .dataframe thead th {\n",
       "        text-align: right;\n",
       "    }\n",
       "</style>\n",
       "<table border=\"1\" class=\"dataframe\">\n",
       "  <thead>\n",
       "    <tr style=\"text-align: right;\">\n",
       "      <th></th>\n",
       "      <th>event_id</th>\n",
       "      <th>device_id</th>\n",
       "      <th>longitude</th>\n",
       "      <th>latitude</th>\n",
       "    </tr>\n",
       "  </thead>\n",
       "  <tbody>\n",
       "    <tr>\n",
       "      <th>count</th>\n",
       "      <td>3.252950e+06</td>\n",
       "      <td>3.252497e+06</td>\n",
       "      <td>3.252527e+06</td>\n",
       "      <td>3.252527e+06</td>\n",
       "    </tr>\n",
       "    <tr>\n",
       "      <th>mean</th>\n",
       "      <td>1.626476e+06</td>\n",
       "      <td>1.012200e+17</td>\n",
       "      <td>7.815868e+01</td>\n",
       "      <td>2.168851e+01</td>\n",
       "    </tr>\n",
       "    <tr>\n",
       "      <th>std</th>\n",
       "      <td>9.390459e+05</td>\n",
       "      <td>5.316758e+18</td>\n",
       "      <td>4.235570e+00</td>\n",
       "      <td>5.789111e+00</td>\n",
       "    </tr>\n",
       "    <tr>\n",
       "      <th>min</th>\n",
       "      <td>1.000000e+00</td>\n",
       "      <td>-9.222957e+18</td>\n",
       "      <td>1.256700e+01</td>\n",
       "      <td>8.190110e+00</td>\n",
       "    </tr>\n",
       "    <tr>\n",
       "      <th>25%</th>\n",
       "      <td>8.132382e+05</td>\n",
       "      <td>-4.540611e+18</td>\n",
       "      <td>7.583543e+01</td>\n",
       "      <td>1.780171e+01</td>\n",
       "    </tr>\n",
       "    <tr>\n",
       "      <th>50%</th>\n",
       "      <td>1.626476e+06</td>\n",
       "      <td>1.726820e+17</td>\n",
       "      <td>7.726814e+01</td>\n",
       "      <td>2.216454e+01</td>\n",
       "    </tr>\n",
       "    <tr>\n",
       "      <th>75%</th>\n",
       "      <td>2.439713e+06</td>\n",
       "      <td>4.861813e+18</td>\n",
       "      <td>8.031916e+01</td>\n",
       "      <td>2.868278e+01</td>\n",
       "    </tr>\n",
       "    <tr>\n",
       "      <th>max</th>\n",
       "      <td>3.252950e+06</td>\n",
       "      <td>9.222849e+18</td>\n",
       "      <td>9.545946e+01</td>\n",
       "      <td>4.187190e+01</td>\n",
       "    </tr>\n",
       "  </tbody>\n",
       "</table>\n",
       "</div>"
      ],
      "text/plain": [
       "           event_id     device_id     longitude      latitude\n",
       "count  3.252950e+06  3.252497e+06  3.252527e+06  3.252527e+06\n",
       "mean   1.626476e+06  1.012200e+17  7.815868e+01  2.168851e+01\n",
       "std    9.390459e+05  5.316758e+18  4.235570e+00  5.789111e+00\n",
       "min    1.000000e+00 -9.222957e+18  1.256700e+01  8.190110e+00\n",
       "25%    8.132382e+05 -4.540611e+18  7.583543e+01  1.780171e+01\n",
       "50%    1.626476e+06  1.726820e+17  7.726814e+01  2.216454e+01\n",
       "75%    2.439713e+06  4.861813e+18  8.031916e+01  2.868278e+01\n",
       "max    3.252950e+06  9.222849e+18  9.545946e+01  4.187190e+01"
      ]
     },
     "execution_count": 4,
     "metadata": {},
     "output_type": "execute_result"
    }
   ],
   "source": [
    "data.describe() #Negative value - # Focus area - WestBengal, Karnataka, Gujarat, Bihar, Punjab, Kerala"
   ]
  },
  {
   "cell_type": "code",
   "execution_count": 5,
   "metadata": {
    "scrolled": false
   },
   "outputs": [
    {
     "data": {
      "text/plain": [
       "event_id       0\n",
       "device_id    453\n",
       "timestamp      0\n",
       "longitude    423\n",
       "latitude     423\n",
       "city           0\n",
       "state        377\n",
       "dtype: int64"
      ]
     },
     "execution_count": 5,
     "metadata": {},
     "output_type": "execute_result"
    }
   ],
   "source": [
    "data.shape[0]-data.count() \n",
    "# update state basis on city\n",
    "# Update long & Lati with MODE basis city"
   ]
  },
  {
   "cell_type": "code",
   "execution_count": 6,
   "metadata": {},
   "outputs": [
    {
     "data": {
      "text/plain": [
       "event_id       0\n",
       "device_id    453\n",
       "timestamp      0\n",
       "longitude    423\n",
       "latitude     423\n",
       "city           0\n",
       "state        377\n",
       "dtype: int64"
      ]
     },
     "execution_count": 6,
     "metadata": {},
     "output_type": "execute_result"
    }
   ],
   "source": [
    "data.isnull().sum()"
   ]
  },
  {
   "cell_type": "code",
   "execution_count": 7,
   "metadata": {
    "scrolled": true
   },
   "outputs": [
    {
     "data": {
      "text/plain": [
       "0"
      ]
     },
     "execution_count": 7,
     "metadata": {},
     "output_type": "execute_result"
    }
   ],
   "source": [
    "data.duplicated().sum() # No duplicates row"
   ]
  },
  {
   "cell_type": "code",
   "execution_count": 8,
   "metadata": {},
   "outputs": [
    {
     "data": {
      "text/plain": [
       "True     3192084\n",
       "False      60866\n",
       "dtype: int64"
      ]
     },
     "execution_count": 8,
     "metadata": {},
     "output_type": "execute_result"
    }
   ],
   "source": [
    "data.duplicated('device_id').value_counts()"
   ]
  },
  {
   "cell_type": "code",
   "execution_count": 9,
   "metadata": {
    "scrolled": true
   },
   "outputs": [
    {
     "data": {
      "text/plain": [
       "False    3252950\n",
       "dtype: int64"
      ]
     },
     "execution_count": 9,
     "metadata": {},
     "output_type": "execute_result"
    }
   ],
   "source": [
    "data.duplicated('event_id').value_counts() #No duplicate value in event ID, hence we would fill device_id with dummy value '1'"
   ]
  },
  {
   "cell_type": "code",
   "execution_count": 10,
   "metadata": {
    "scrolled": true
   },
   "outputs": [
    {
     "data": {
      "text/html": [
       "<div>\n",
       "<style scoped>\n",
       "    .dataframe tbody tr th:only-of-type {\n",
       "        vertical-align: middle;\n",
       "    }\n",
       "\n",
       "    .dataframe tbody tr th {\n",
       "        vertical-align: top;\n",
       "    }\n",
       "\n",
       "    .dataframe thead th {\n",
       "        text-align: right;\n",
       "    }\n",
       "</style>\n",
       "<table border=\"1\" class=\"dataframe\">\n",
       "  <thead>\n",
       "    <tr style=\"text-align: right;\">\n",
       "      <th></th>\n",
       "      <th>event_id</th>\n",
       "      <th>device_id</th>\n",
       "      <th>timestamp</th>\n",
       "      <th>longitude</th>\n",
       "      <th>latitude</th>\n",
       "      <th>city</th>\n",
       "    </tr>\n",
       "    <tr>\n",
       "      <th>state</th>\n",
       "      <th></th>\n",
       "      <th></th>\n",
       "      <th></th>\n",
       "      <th></th>\n",
       "      <th></th>\n",
       "      <th></th>\n",
       "    </tr>\n",
       "  </thead>\n",
       "  <tbody>\n",
       "    <tr>\n",
       "      <th>AndamanandNicobarIslands</th>\n",
       "      <td>1515</td>\n",
       "      <td>41</td>\n",
       "      <td>1505</td>\n",
       "      <td>41</td>\n",
       "      <td>41</td>\n",
       "      <td>1</td>\n",
       "    </tr>\n",
       "    <tr>\n",
       "      <th>AndhraPradesh</th>\n",
       "      <td>321332</td>\n",
       "      <td>4929</td>\n",
       "      <td>236345</td>\n",
       "      <td>4909</td>\n",
       "      <td>4915</td>\n",
       "      <td>104</td>\n",
       "    </tr>\n",
       "    <tr>\n",
       "      <th>ArunachalPradesh</th>\n",
       "      <td>608</td>\n",
       "      <td>32</td>\n",
       "      <td>603</td>\n",
       "      <td>32</td>\n",
       "      <td>32</td>\n",
       "      <td>1</td>\n",
       "    </tr>\n",
       "    <tr>\n",
       "      <th>Assam</th>\n",
       "      <td>12021</td>\n",
       "      <td>483</td>\n",
       "      <td>11738</td>\n",
       "      <td>483</td>\n",
       "      <td>483</td>\n",
       "      <td>15</td>\n",
       "    </tr>\n",
       "    <tr>\n",
       "      <th>Bihar</th>\n",
       "      <td>35472</td>\n",
       "      <td>1372</td>\n",
       "      <td>33896</td>\n",
       "      <td>1374</td>\n",
       "      <td>1374</td>\n",
       "      <td>43</td>\n",
       "    </tr>\n",
       "    <tr>\n",
       "      <th>Chandigarh</th>\n",
       "      <td>894</td>\n",
       "      <td>35</td>\n",
       "      <td>884</td>\n",
       "      <td>35</td>\n",
       "      <td>35</td>\n",
       "      <td>1</td>\n",
       "    </tr>\n",
       "    <tr>\n",
       "      <th>Chhattisgarh</th>\n",
       "      <td>9754</td>\n",
       "      <td>400</td>\n",
       "      <td>9576</td>\n",
       "      <td>400</td>\n",
       "      <td>400</td>\n",
       "      <td>12</td>\n",
       "    </tr>\n",
       "    <tr>\n",
       "      <th>Delhi</th>\n",
       "      <td>751733</td>\n",
       "      <td>4909</td>\n",
       "      <td>412084</td>\n",
       "      <td>4795</td>\n",
       "      <td>4789</td>\n",
       "      <td>10</td>\n",
       "    </tr>\n",
       "    <tr>\n",
       "      <th>Goa</th>\n",
       "      <td>3250</td>\n",
       "      <td>76</td>\n",
       "      <td>3203</td>\n",
       "      <td>76</td>\n",
       "      <td>76</td>\n",
       "      <td>3</td>\n",
       "    </tr>\n",
       "    <tr>\n",
       "      <th>Gujarat</th>\n",
       "      <td>42881</td>\n",
       "      <td>1749</td>\n",
       "      <td>40822</td>\n",
       "      <td>1748</td>\n",
       "      <td>1746</td>\n",
       "      <td>55</td>\n",
       "    </tr>\n",
       "    <tr>\n",
       "      <th>Haryana</th>\n",
       "      <td>21053</td>\n",
       "      <td>816</td>\n",
       "      <td>20397</td>\n",
       "      <td>816</td>\n",
       "      <td>816</td>\n",
       "      <td>26</td>\n",
       "    </tr>\n",
       "    <tr>\n",
       "      <th>HimachalPradesh</th>\n",
       "      <td>1409</td>\n",
       "      <td>31</td>\n",
       "      <td>1390</td>\n",
       "      <td>31</td>\n",
       "      <td>31</td>\n",
       "      <td>1</td>\n",
       "    </tr>\n",
       "    <tr>\n",
       "      <th>JammuandKashmir</th>\n",
       "      <td>5385</td>\n",
       "      <td>236</td>\n",
       "      <td>5300</td>\n",
       "      <td>236</td>\n",
       "      <td>236</td>\n",
       "      <td>7</td>\n",
       "    </tr>\n",
       "    <tr>\n",
       "      <th>Jharkhand</th>\n",
       "      <td>18060</td>\n",
       "      <td>739</td>\n",
       "      <td>17569</td>\n",
       "      <td>739</td>\n",
       "      <td>739</td>\n",
       "      <td>23</td>\n",
       "    </tr>\n",
       "    <tr>\n",
       "      <th>Karnataka</th>\n",
       "      <td>99058</td>\n",
       "      <td>6481</td>\n",
       "      <td>89560</td>\n",
       "      <td>6354</td>\n",
       "      <td>6369</td>\n",
       "      <td>61</td>\n",
       "    </tr>\n",
       "    <tr>\n",
       "      <th>Kerala</th>\n",
       "      <td>23148</td>\n",
       "      <td>939</td>\n",
       "      <td>22486</td>\n",
       "      <td>939</td>\n",
       "      <td>939</td>\n",
       "      <td>29</td>\n",
       "    </tr>\n",
       "    <tr>\n",
       "      <th>MadhyaPradesh</th>\n",
       "      <td>232690</td>\n",
       "      <td>3220</td>\n",
       "      <td>185509</td>\n",
       "      <td>3211</td>\n",
       "      <td>3215</td>\n",
       "      <td>52</td>\n",
       "    </tr>\n",
       "    <tr>\n",
       "      <th>Maharashtra</th>\n",
       "      <td>677105</td>\n",
       "      <td>9010</td>\n",
       "      <td>389892</td>\n",
       "      <td>8883</td>\n",
       "      <td>8883</td>\n",
       "      <td>87</td>\n",
       "    </tr>\n",
       "    <tr>\n",
       "      <th>Manipur</th>\n",
       "      <td>989</td>\n",
       "      <td>30</td>\n",
       "      <td>977</td>\n",
       "      <td>30</td>\n",
       "      <td>30</td>\n",
       "      <td>1</td>\n",
       "    </tr>\n",
       "    <tr>\n",
       "      <th>Meghalaya</th>\n",
       "      <td>1515</td>\n",
       "      <td>56</td>\n",
       "      <td>1504</td>\n",
       "      <td>56</td>\n",
       "      <td>56</td>\n",
       "      <td>2</td>\n",
       "    </tr>\n",
       "    <tr>\n",
       "      <th>Mizoram</th>\n",
       "      <td>1613</td>\n",
       "      <td>70</td>\n",
       "      <td>1603</td>\n",
       "      <td>70</td>\n",
       "      <td>70</td>\n",
       "      <td>2</td>\n",
       "    </tr>\n",
       "    <tr>\n",
       "      <th>Nagaland</th>\n",
       "      <td>2298</td>\n",
       "      <td>107</td>\n",
       "      <td>2254</td>\n",
       "      <td>107</td>\n",
       "      <td>107</td>\n",
       "      <td>3</td>\n",
       "    </tr>\n",
       "    <tr>\n",
       "      <th>Orissa</th>\n",
       "      <td>15904</td>\n",
       "      <td>655</td>\n",
       "      <td>15481</td>\n",
       "      <td>654</td>\n",
       "      <td>654</td>\n",
       "      <td>21</td>\n",
       "    </tr>\n",
       "    <tr>\n",
       "      <th>Pondicherry</th>\n",
       "      <td>1741</td>\n",
       "      <td>96</td>\n",
       "      <td>1708</td>\n",
       "      <td>96</td>\n",
       "      <td>96</td>\n",
       "      <td>3</td>\n",
       "    </tr>\n",
       "    <tr>\n",
       "      <th>Punjab</th>\n",
       "      <td>26195</td>\n",
       "      <td>1055</td>\n",
       "      <td>25349</td>\n",
       "      <td>1055</td>\n",
       "      <td>1055</td>\n",
       "      <td>34</td>\n",
       "    </tr>\n",
       "    <tr>\n",
       "      <th>Rajasthan</th>\n",
       "      <td>196361</td>\n",
       "      <td>3093</td>\n",
       "      <td>161710</td>\n",
       "      <td>3079</td>\n",
       "      <td>3076</td>\n",
       "      <td>49</td>\n",
       "    </tr>\n",
       "    <tr>\n",
       "      <th>TamilNadu</th>\n",
       "      <td>436282</td>\n",
       "      <td>5770</td>\n",
       "      <td>304142</td>\n",
       "      <td>5721</td>\n",
       "      <td>5712</td>\n",
       "      <td>83</td>\n",
       "    </tr>\n",
       "    <tr>\n",
       "      <th>Telangana</th>\n",
       "      <td>12784</td>\n",
       "      <td>3045</td>\n",
       "      <td>12517</td>\n",
       "      <td>2998</td>\n",
       "      <td>2992</td>\n",
       "      <td>1</td>\n",
       "    </tr>\n",
       "    <tr>\n",
       "      <th>Tripura</th>\n",
       "      <td>892</td>\n",
       "      <td>36</td>\n",
       "      <td>885</td>\n",
       "      <td>36</td>\n",
       "      <td>36</td>\n",
       "      <td>1</td>\n",
       "    </tr>\n",
       "    <tr>\n",
       "      <th>UttarPradesh</th>\n",
       "      <td>94750</td>\n",
       "      <td>3660</td>\n",
       "      <td>85807</td>\n",
       "      <td>3659</td>\n",
       "      <td>3659</td>\n",
       "      <td>115</td>\n",
       "    </tr>\n",
       "    <tr>\n",
       "      <th>Uttaranchal</th>\n",
       "      <td>7720</td>\n",
       "      <td>258</td>\n",
       "      <td>7545</td>\n",
       "      <td>258</td>\n",
       "      <td>258</td>\n",
       "      <td>8</td>\n",
       "    </tr>\n",
       "    <tr>\n",
       "      <th>WestBengal</th>\n",
       "      <td>196161</td>\n",
       "      <td>7436</td>\n",
       "      <td>161902</td>\n",
       "      <td>7259</td>\n",
       "      <td>7314</td>\n",
       "      <td>89</td>\n",
       "    </tr>\n",
       "  </tbody>\n",
       "</table>\n",
       "</div>"
      ],
      "text/plain": [
       "                          event_id  device_id  timestamp  longitude  latitude  \\\n",
       "state                                                                           \n",
       "AndamanandNicobarIslands      1515         41       1505         41        41   \n",
       "AndhraPradesh               321332       4929     236345       4909      4915   \n",
       "ArunachalPradesh               608         32        603         32        32   \n",
       "Assam                        12021        483      11738        483       483   \n",
       "Bihar                        35472       1372      33896       1374      1374   \n",
       "Chandigarh                     894         35        884         35        35   \n",
       "Chhattisgarh                  9754        400       9576        400       400   \n",
       "Delhi                       751733       4909     412084       4795      4789   \n",
       "Goa                           3250         76       3203         76        76   \n",
       "Gujarat                      42881       1749      40822       1748      1746   \n",
       "Haryana                      21053        816      20397        816       816   \n",
       "HimachalPradesh               1409         31       1390         31        31   \n",
       "JammuandKashmir               5385        236       5300        236       236   \n",
       "Jharkhand                    18060        739      17569        739       739   \n",
       "Karnataka                    99058       6481      89560       6354      6369   \n",
       "Kerala                       23148        939      22486        939       939   \n",
       "MadhyaPradesh               232690       3220     185509       3211      3215   \n",
       "Maharashtra                 677105       9010     389892       8883      8883   \n",
       "Manipur                        989         30        977         30        30   \n",
       "Meghalaya                     1515         56       1504         56        56   \n",
       "Mizoram                       1613         70       1603         70        70   \n",
       "Nagaland                      2298        107       2254        107       107   \n",
       "Orissa                       15904        655      15481        654       654   \n",
       "Pondicherry                   1741         96       1708         96        96   \n",
       "Punjab                       26195       1055      25349       1055      1055   \n",
       "Rajasthan                   196361       3093     161710       3079      3076   \n",
       "TamilNadu                   436282       5770     304142       5721      5712   \n",
       "Telangana                    12784       3045      12517       2998      2992   \n",
       "Tripura                        892         36        885         36        36   \n",
       "UttarPradesh                 94750       3660      85807       3659      3659   \n",
       "Uttaranchal                   7720        258       7545        258       258   \n",
       "WestBengal                  196161       7436     161902       7259      7314   \n",
       "\n",
       "                          city  \n",
       "state                           \n",
       "AndamanandNicobarIslands     1  \n",
       "AndhraPradesh              104  \n",
       "ArunachalPradesh             1  \n",
       "Assam                       15  \n",
       "Bihar                       43  \n",
       "Chandigarh                   1  \n",
       "Chhattisgarh                12  \n",
       "Delhi                       10  \n",
       "Goa                          3  \n",
       "Gujarat                     55  \n",
       "Haryana                     26  \n",
       "HimachalPradesh              1  \n",
       "JammuandKashmir              7  \n",
       "Jharkhand                   23  \n",
       "Karnataka                   61  \n",
       "Kerala                      29  \n",
       "MadhyaPradesh               52  \n",
       "Maharashtra                 87  \n",
       "Manipur                      1  \n",
       "Meghalaya                    2  \n",
       "Mizoram                      2  \n",
       "Nagaland                     3  \n",
       "Orissa                      21  \n",
       "Pondicherry                  3  \n",
       "Punjab                      34  \n",
       "Rajasthan                   49  \n",
       "TamilNadu                   83  \n",
       "Telangana                    1  \n",
       "Tripura                      1  \n",
       "UttarPradesh               115  \n",
       "Uttaranchal                  8  \n",
       "WestBengal                  89  "
      ]
     },
     "execution_count": 10,
     "metadata": {},
     "output_type": "execute_result"
    }
   ],
   "source": [
    "data.groupby('state').nunique()"
   ]
  },
  {
   "cell_type": "code",
   "execution_count": 11,
   "metadata": {
    "scrolled": false
   },
   "outputs": [
    {
     "data": {
      "text/html": [
       "<div>\n",
       "<style scoped>\n",
       "    .dataframe tbody tr th:only-of-type {\n",
       "        vertical-align: middle;\n",
       "    }\n",
       "\n",
       "    .dataframe tbody tr th {\n",
       "        vertical-align: top;\n",
       "    }\n",
       "\n",
       "    .dataframe thead th {\n",
       "        text-align: right;\n",
       "    }\n",
       "</style>\n",
       "<table border=\"1\" class=\"dataframe\">\n",
       "  <thead>\n",
       "    <tr style=\"text-align: right;\">\n",
       "      <th></th>\n",
       "      <th>event_id</th>\n",
       "      <th>device_id</th>\n",
       "      <th>timestamp</th>\n",
       "      <th>longitude</th>\n",
       "      <th>latitude</th>\n",
       "      <th>city</th>\n",
       "      <th>state</th>\n",
       "    </tr>\n",
       "  </thead>\n",
       "  <tbody>\n",
       "    <tr>\n",
       "      <th>269500</th>\n",
       "      <td>835202</td>\n",
       "      <td>-3.628420e+17</td>\n",
       "      <td>2016-05-03 06:54:24</td>\n",
       "      <td>73.909012</td>\n",
       "      <td>18.581745</td>\n",
       "      <td>Pune</td>\n",
       "      <td>Maharashtra</td>\n",
       "    </tr>\n",
       "  </tbody>\n",
       "</table>\n",
       "</div>"
      ],
      "text/plain": [
       "        event_id     device_id            timestamp  longitude   latitude  \\\n",
       "269500    835202 -3.628420e+17  2016-05-03 06:54:24  73.909012  18.581745   \n",
       "\n",
       "        city        state  \n",
       "269500  Pune  Maharashtra  "
      ]
     },
     "execution_count": 11,
     "metadata": {},
     "output_type": "execute_result"
    }
   ],
   "source": [
    "data[data['event_id']==835202]"
   ]
  },
  {
   "cell_type": "markdown",
   "metadata": {},
   "source": [
    "# Updating 'device_id' Missing value"
   ]
  },
  {
   "cell_type": "code",
   "execution_count": 12,
   "metadata": {},
   "outputs": [],
   "source": [
    "data[\"lat_long\"]= data['latitude'].astype(str) + \",\" + data['longitude'].astype(str)"
   ]
  },
  {
   "cell_type": "code",
   "execution_count": 13,
   "metadata": {
    "scrolled": true
   },
   "outputs": [
    {
     "data": {
      "text/html": [
       "<div>\n",
       "<style scoped>\n",
       "    .dataframe tbody tr th:only-of-type {\n",
       "        vertical-align: middle;\n",
       "    }\n",
       "\n",
       "    .dataframe tbody tr th {\n",
       "        vertical-align: top;\n",
       "    }\n",
       "\n",
       "    .dataframe thead th {\n",
       "        text-align: right;\n",
       "    }\n",
       "</style>\n",
       "<table border=\"1\" class=\"dataframe\">\n",
       "  <thead>\n",
       "    <tr style=\"text-align: right;\">\n",
       "      <th></th>\n",
       "      <th>event_id</th>\n",
       "      <th>device_id</th>\n",
       "      <th>timestamp</th>\n",
       "      <th>longitude</th>\n",
       "      <th>latitude</th>\n",
       "      <th>city</th>\n",
       "      <th>state</th>\n",
       "      <th>lat_long</th>\n",
       "    </tr>\n",
       "  </thead>\n",
       "  <tbody>\n",
       "    <tr>\n",
       "      <th>0</th>\n",
       "      <td>2765368</td>\n",
       "      <td>2.973348e+18</td>\n",
       "      <td>2016-05-07 22:52:05</td>\n",
       "      <td>77.225676</td>\n",
       "      <td>28.730140</td>\n",
       "      <td>Delhi</td>\n",
       "      <td>Delhi</td>\n",
       "      <td>28.73014,77.22567599999998</td>\n",
       "    </tr>\n",
       "    <tr>\n",
       "      <th>1</th>\n",
       "      <td>2955066</td>\n",
       "      <td>4.734221e+18</td>\n",
       "      <td>2016-05-01 20:44:16</td>\n",
       "      <td>88.388361</td>\n",
       "      <td>22.660325</td>\n",
       "      <td>Calcutta</td>\n",
       "      <td>WestBengal</td>\n",
       "      <td>22.660325,88.388361</td>\n",
       "    </tr>\n",
       "    <tr>\n",
       "      <th>2</th>\n",
       "      <td>605968</td>\n",
       "      <td>-3.264500e+18</td>\n",
       "      <td>2016-05-02 14:23:04</td>\n",
       "      <td>77.256809</td>\n",
       "      <td>28.757906</td>\n",
       "      <td>Delhi</td>\n",
       "      <td>Delhi</td>\n",
       "      <td>28.757906,77.25680899999998</td>\n",
       "    </tr>\n",
       "    <tr>\n",
       "      <th>3</th>\n",
       "      <td>448114</td>\n",
       "      <td>5.731369e+18</td>\n",
       "      <td>2016-05-03 13:21:16</td>\n",
       "      <td>80.343613</td>\n",
       "      <td>13.153332</td>\n",
       "      <td>Chennai</td>\n",
       "      <td>TamilNadu</td>\n",
       "      <td>13.153332,80.34361299999998</td>\n",
       "    </tr>\n",
       "    <tr>\n",
       "      <th>4</th>\n",
       "      <td>665740</td>\n",
       "      <td>3.388880e+17</td>\n",
       "      <td>2016-05-06 03:51:05</td>\n",
       "      <td>85.997745</td>\n",
       "      <td>23.842609</td>\n",
       "      <td>Bokaro</td>\n",
       "      <td>Jharkhand</td>\n",
       "      <td>23.842609,85.997745</td>\n",
       "    </tr>\n",
       "  </tbody>\n",
       "</table>\n",
       "</div>"
      ],
      "text/plain": [
       "   event_id     device_id            timestamp  longitude   latitude  \\\n",
       "0   2765368  2.973348e+18  2016-05-07 22:52:05  77.225676  28.730140   \n",
       "1   2955066  4.734221e+18  2016-05-01 20:44:16  88.388361  22.660325   \n",
       "2    605968 -3.264500e+18  2016-05-02 14:23:04  77.256809  28.757906   \n",
       "3    448114  5.731369e+18  2016-05-03 13:21:16  80.343613  13.153332   \n",
       "4    665740  3.388880e+17  2016-05-06 03:51:05  85.997745  23.842609   \n",
       "\n",
       "       city       state                     lat_long  \n",
       "0     Delhi       Delhi   28.73014,77.22567599999998  \n",
       "1  Calcutta  WestBengal          22.660325,88.388361  \n",
       "2     Delhi       Delhi  28.757906,77.25680899999998  \n",
       "3   Chennai   TamilNadu  13.153332,80.34361299999998  \n",
       "4    Bokaro   Jharkhand          23.842609,85.997745  "
      ]
     },
     "execution_count": 13,
     "metadata": {},
     "output_type": "execute_result"
    }
   ],
   "source": [
    "data.head()"
   ]
  },
  {
   "cell_type": "code",
   "execution_count": 14,
   "metadata": {},
   "outputs": [],
   "source": [
    "data_deviceid=data[['device_id','lat_long']]"
   ]
  },
  {
   "cell_type": "code",
   "execution_count": 15,
   "metadata": {
    "scrolled": true
   },
   "outputs": [
    {
     "data": {
      "text/html": [
       "<div>\n",
       "<style scoped>\n",
       "    .dataframe tbody tr th:only-of-type {\n",
       "        vertical-align: middle;\n",
       "    }\n",
       "\n",
       "    .dataframe tbody tr th {\n",
       "        vertical-align: top;\n",
       "    }\n",
       "\n",
       "    .dataframe thead th {\n",
       "        text-align: right;\n",
       "    }\n",
       "</style>\n",
       "<table border=\"1\" class=\"dataframe\">\n",
       "  <thead>\n",
       "    <tr style=\"text-align: right;\">\n",
       "      <th></th>\n",
       "      <th>device_id</th>\n",
       "      <th>lat_long</th>\n",
       "    </tr>\n",
       "  </thead>\n",
       "  <tbody>\n",
       "    <tr>\n",
       "      <th>0</th>\n",
       "      <td>2.973348e+18</td>\n",
       "      <td>28.73014,77.22567599999998</td>\n",
       "    </tr>\n",
       "    <tr>\n",
       "      <th>1</th>\n",
       "      <td>4.734221e+18</td>\n",
       "      <td>22.660325,88.388361</td>\n",
       "    </tr>\n",
       "    <tr>\n",
       "      <th>2</th>\n",
       "      <td>-3.264500e+18</td>\n",
       "      <td>28.757906,77.25680899999998</td>\n",
       "    </tr>\n",
       "    <tr>\n",
       "      <th>3</th>\n",
       "      <td>5.731369e+18</td>\n",
       "      <td>13.153332,80.34361299999998</td>\n",
       "    </tr>\n",
       "    <tr>\n",
       "      <th>4</th>\n",
       "      <td>3.388880e+17</td>\n",
       "      <td>23.842609,85.997745</td>\n",
       "    </tr>\n",
       "  </tbody>\n",
       "</table>\n",
       "</div>"
      ],
      "text/plain": [
       "      device_id                     lat_long\n",
       "0  2.973348e+18   28.73014,77.22567599999998\n",
       "1  4.734221e+18          22.660325,88.388361\n",
       "2 -3.264500e+18  28.757906,77.25680899999998\n",
       "3  5.731369e+18  13.153332,80.34361299999998\n",
       "4  3.388880e+17          23.842609,85.997745"
      ]
     },
     "execution_count": 15,
     "metadata": {},
     "output_type": "execute_result"
    }
   ],
   "source": [
    "data_deviceid.head()"
   ]
  },
  {
   "cell_type": "code",
   "execution_count": 16,
   "metadata": {},
   "outputs": [],
   "source": [
    "data_deviceid_null=data_deviceid.dropna().drop_duplicates()"
   ]
  },
  {
   "cell_type": "code",
   "execution_count": 17,
   "metadata": {},
   "outputs": [],
   "source": [
    "data_deviceid_null=data_deviceid_null.drop_duplicates(subset=['lat_long'],keep='first')"
   ]
  },
  {
   "cell_type": "code",
   "execution_count": 18,
   "metadata": {},
   "outputs": [
    {
     "data": {
      "text/plain": [
       "device_id    60870\n",
       "dtype: int64"
      ]
     },
     "execution_count": 18,
     "metadata": {},
     "output_type": "execute_result"
    }
   ],
   "source": [
    "data_deviceid_null.groupby('lat_long').nunique().count()"
   ]
  },
  {
   "cell_type": "code",
   "execution_count": 19,
   "metadata": {},
   "outputs": [
    {
     "data": {
      "text/plain": [
       "device_id    0\n",
       "lat_long     0\n",
       "dtype: int64"
      ]
     },
     "execution_count": 19,
     "metadata": {},
     "output_type": "execute_result"
    }
   ],
   "source": [
    "data_deviceid_null.isnull().sum()"
   ]
  },
  {
   "cell_type": "code",
   "execution_count": 20,
   "metadata": {},
   "outputs": [
    {
     "data": {
      "text/plain": [
       "array(['22.814519,75.88295600000002', '26.948689,75.888487',\n",
       "       '26.960796,75.846007', '22.777781,75.92333199999999',\n",
       "       '31.561747,75.99255099999998', '18.628057,73.862756',\n",
       "       '18.566925,73.86016500000002', '17.805195,83.357991',\n",
       "       '28.719966000000003,77.29248100000002',\n",
       "       '18.614812,73.92649899999998', '13.153332,80.34361299999998',\n",
       "       '13.149176,80.30927199999998', '28.721053,77.27481399999998',\n",
       "       '17.752819,83.371738', '22.817526,75.95805', '17.822906,83.342711',\n",
       "       '26.95399,75.836167', '13.189053,80.33543499999998',\n",
       "       '21.194283,73.16934499999998', '21.790693,70.686387',\n",
       "       '28.728888,77.30315300000002'], dtype=object)"
      ]
     },
     "execution_count": 20,
     "metadata": {},
     "output_type": "execute_result"
    }
   ],
   "source": [
    "data_deviceid_null2 = data[data.device_id.isnull()].lat_long.dropna().unique()\n",
    "data_deviceid_null2"
   ]
  },
  {
   "cell_type": "code",
   "execution_count": 21,
   "metadata": {},
   "outputs": [],
   "source": [
    "for ind in data_deviceid_null2:\n",
    "    data['device_id']=np.where(((data['lat_long'] == ind) & (data['device_id'].isnull())),data_deviceid_null.query('lat_long == @ind')['device_id'],data['device_id'])"
   ]
  },
  {
   "cell_type": "code",
   "execution_count": 22,
   "metadata": {
    "scrolled": false
   },
   "outputs": [
    {
     "data": {
      "text/plain": [
       "event_id       0\n",
       "device_id      0\n",
       "timestamp      0\n",
       "longitude    423\n",
       "latitude     423\n",
       "city           0\n",
       "state        377\n",
       "lat_long       0\n",
       "dtype: int64"
      ]
     },
     "execution_count": 22,
     "metadata": {},
     "output_type": "execute_result"
    }
   ],
   "source": [
    "data.isnull().sum()"
   ]
  },
  {
   "cell_type": "code",
   "execution_count": 23,
   "metadata": {
    "scrolled": false
   },
   "outputs": [
    {
     "data": {
      "text/html": [
       "<div>\n",
       "<style scoped>\n",
       "    .dataframe tbody tr th:only-of-type {\n",
       "        vertical-align: middle;\n",
       "    }\n",
       "\n",
       "    .dataframe tbody tr th {\n",
       "        vertical-align: top;\n",
       "    }\n",
       "\n",
       "    .dataframe thead th {\n",
       "        text-align: right;\n",
       "    }\n",
       "</style>\n",
       "<table border=\"1\" class=\"dataframe\">\n",
       "  <thead>\n",
       "    <tr style=\"text-align: right;\">\n",
       "      <th></th>\n",
       "      <th>event_id</th>\n",
       "      <th>device_id</th>\n",
       "      <th>timestamp</th>\n",
       "      <th>longitude</th>\n",
       "      <th>latitude</th>\n",
       "      <th>city</th>\n",
       "      <th>state</th>\n",
       "      <th>lat_long</th>\n",
       "    </tr>\n",
       "  </thead>\n",
       "  <tbody>\n",
       "    <tr>\n",
       "      <th>0</th>\n",
       "      <td>2765368</td>\n",
       "      <td>2.973348e+18</td>\n",
       "      <td>2016-05-07 22:52:05</td>\n",
       "      <td>77.225676</td>\n",
       "      <td>28.730140</td>\n",
       "      <td>Delhi</td>\n",
       "      <td>Delhi</td>\n",
       "      <td>28.73014,77.22567599999998</td>\n",
       "    </tr>\n",
       "    <tr>\n",
       "      <th>1</th>\n",
       "      <td>2955066</td>\n",
       "      <td>4.734221e+18</td>\n",
       "      <td>2016-05-01 20:44:16</td>\n",
       "      <td>88.388361</td>\n",
       "      <td>22.660325</td>\n",
       "      <td>Calcutta</td>\n",
       "      <td>WestBengal</td>\n",
       "      <td>22.660325,88.388361</td>\n",
       "    </tr>\n",
       "    <tr>\n",
       "      <th>2</th>\n",
       "      <td>605968</td>\n",
       "      <td>-3.264500e+18</td>\n",
       "      <td>2016-05-02 14:23:04</td>\n",
       "      <td>77.256809</td>\n",
       "      <td>28.757906</td>\n",
       "      <td>Delhi</td>\n",
       "      <td>Delhi</td>\n",
       "      <td>28.757906,77.25680899999998</td>\n",
       "    </tr>\n",
       "    <tr>\n",
       "      <th>3</th>\n",
       "      <td>448114</td>\n",
       "      <td>5.731369e+18</td>\n",
       "      <td>2016-05-03 13:21:16</td>\n",
       "      <td>80.343613</td>\n",
       "      <td>13.153332</td>\n",
       "      <td>Chennai</td>\n",
       "      <td>TamilNadu</td>\n",
       "      <td>13.153332,80.34361299999998</td>\n",
       "    </tr>\n",
       "    <tr>\n",
       "      <th>4</th>\n",
       "      <td>665740</td>\n",
       "      <td>3.388880e+17</td>\n",
       "      <td>2016-05-06 03:51:05</td>\n",
       "      <td>85.997745</td>\n",
       "      <td>23.842609</td>\n",
       "      <td>Bokaro</td>\n",
       "      <td>Jharkhand</td>\n",
       "      <td>23.842609,85.997745</td>\n",
       "    </tr>\n",
       "  </tbody>\n",
       "</table>\n",
       "</div>"
      ],
      "text/plain": [
       "   event_id     device_id            timestamp  longitude   latitude  \\\n",
       "0   2765368  2.973348e+18  2016-05-07 22:52:05  77.225676  28.730140   \n",
       "1   2955066  4.734221e+18  2016-05-01 20:44:16  88.388361  22.660325   \n",
       "2    605968 -3.264500e+18  2016-05-02 14:23:04  77.256809  28.757906   \n",
       "3    448114  5.731369e+18  2016-05-03 13:21:16  80.343613  13.153332   \n",
       "4    665740  3.388880e+17  2016-05-06 03:51:05  85.997745  23.842609   \n",
       "\n",
       "       city       state                     lat_long  \n",
       "0     Delhi       Delhi   28.73014,77.22567599999998  \n",
       "1  Calcutta  WestBengal          22.660325,88.388361  \n",
       "2     Delhi       Delhi  28.757906,77.25680899999998  \n",
       "3   Chennai   TamilNadu  13.153332,80.34361299999998  \n",
       "4    Bokaro   Jharkhand          23.842609,85.997745  "
      ]
     },
     "execution_count": 23,
     "metadata": {},
     "output_type": "execute_result"
    }
   ],
   "source": [
    "data.head()"
   ]
  },
  {
   "cell_type": "code",
   "execution_count": 24,
   "metadata": {},
   "outputs": [
    {
     "name": "stdout",
     "output_type": "stream",
     "text": [
      "<class 'pandas.core.frame.DataFrame'>\n",
      "RangeIndex: 3252950 entries, 0 to 3252949\n",
      "Data columns (total 8 columns):\n",
      " #   Column     Dtype  \n",
      "---  ------     -----  \n",
      " 0   event_id   int64  \n",
      " 1   device_id  float64\n",
      " 2   timestamp  object \n",
      " 3   longitude  float64\n",
      " 4   latitude   float64\n",
      " 5   city       object \n",
      " 6   state      object \n",
      " 7   lat_long   object \n",
      "dtypes: float64(3), int64(1), object(4)\n",
      "memory usage: 198.5+ MB\n"
     ]
    }
   ],
   "source": [
    "data.info()"
   ]
  },
  {
   "cell_type": "markdown",
   "metadata": {},
   "source": [
    "# Updating 'latitude' & 'longitude' missing values"
   ]
  },
  {
   "cell_type": "code",
   "execution_count": 25,
   "metadata": {},
   "outputs": [],
   "source": [
    "data_latlong=data[['device_id','latitude','longitude']]"
   ]
  },
  {
   "cell_type": "code",
   "execution_count": 26,
   "metadata": {},
   "outputs": [],
   "source": [
    "data_latlong_null=data_latlong.dropna().drop_duplicates()"
   ]
  },
  {
   "cell_type": "code",
   "execution_count": 27,
   "metadata": {},
   "outputs": [],
   "source": [
    "data_latlong_null=data_latlong_null.drop_duplicates(subset=['device_id'],keep='first')"
   ]
  },
  {
   "cell_type": "code",
   "execution_count": 28,
   "metadata": {},
   "outputs": [
    {
     "data": {
      "text/plain": [
       "array([ 1.77963102e+18, -8.79056003e+18,  4.86560657e+18,  7.98387143e+18,\n",
       "       -7.36484063e+18,  5.37559902e+18,  5.51865960e+18,  4.58017944e+18,\n",
       "       -6.03379839e+18,  7.66213914e+18,  2.35097940e+18,  4.37503983e+18,\n",
       "        4.78258205e+18,  1.32005098e+18,  5.73136927e+18,  3.73828049e+18,\n",
       "        3.05848775e+17,  7.01860038e+18,  5.11518528e+18,  6.77407134e+18,\n",
       "        3.09916855e+18])"
      ]
     },
     "execution_count": 28,
     "metadata": {},
     "output_type": "execute_result"
    }
   ],
   "source": [
    "data_latlong_null1 = data[data.latitude.isnull()].device_id.dropna().unique()\n",
    "data_latlong_null1"
   ]
  },
  {
   "cell_type": "code",
   "execution_count": 29,
   "metadata": {},
   "outputs": [],
   "source": [
    "for ind in data_latlong_null1:\n",
    "    data['latitude']=np.where(((data['device_id'] == ind) & (data['latitude'].isnull())),data_latlong_null.query('device_id == @ind')['latitude'],data['latitude'])\n",
    "    data['longitude']=np.where(((data['device_id'] == ind) & (data['longitude'].isnull())),data_latlong_null.query('device_id == @ind')['longitude'],data['longitude'])"
   ]
  },
  {
   "cell_type": "code",
   "execution_count": 30,
   "metadata": {
    "scrolled": true
   },
   "outputs": [
    {
     "data": {
      "text/plain": [
       "event_id       0\n",
       "device_id      0\n",
       "timestamp      0\n",
       "longitude      0\n",
       "latitude       0\n",
       "city           0\n",
       "state        377\n",
       "lat_long       0\n",
       "dtype: int64"
      ]
     },
     "execution_count": 30,
     "metadata": {},
     "output_type": "execute_result"
    }
   ],
   "source": [
    "data.isnull().sum()"
   ]
  },
  {
   "cell_type": "code",
   "execution_count": 31,
   "metadata": {
    "scrolled": true
   },
   "outputs": [
    {
     "data": {
      "text/html": [
       "<div>\n",
       "<style scoped>\n",
       "    .dataframe tbody tr th:only-of-type {\n",
       "        vertical-align: middle;\n",
       "    }\n",
       "\n",
       "    .dataframe tbody tr th {\n",
       "        vertical-align: top;\n",
       "    }\n",
       "\n",
       "    .dataframe thead th {\n",
       "        text-align: right;\n",
       "    }\n",
       "</style>\n",
       "<table border=\"1\" class=\"dataframe\">\n",
       "  <thead>\n",
       "    <tr style=\"text-align: right;\">\n",
       "      <th></th>\n",
       "      <th>event_id</th>\n",
       "      <th>device_id</th>\n",
       "      <th>timestamp</th>\n",
       "      <th>longitude</th>\n",
       "      <th>latitude</th>\n",
       "      <th>city</th>\n",
       "      <th>state</th>\n",
       "      <th>lat_long</th>\n",
       "    </tr>\n",
       "  </thead>\n",
       "  <tbody>\n",
       "    <tr>\n",
       "      <th>0</th>\n",
       "      <td>2765368</td>\n",
       "      <td>2.973348e+18</td>\n",
       "      <td>2016-05-07 22:52:05</td>\n",
       "      <td>77.225676</td>\n",
       "      <td>28.730140</td>\n",
       "      <td>Delhi</td>\n",
       "      <td>Delhi</td>\n",
       "      <td>28.73014,77.22567599999998</td>\n",
       "    </tr>\n",
       "    <tr>\n",
       "      <th>1</th>\n",
       "      <td>2955066</td>\n",
       "      <td>4.734221e+18</td>\n",
       "      <td>2016-05-01 20:44:16</td>\n",
       "      <td>88.388361</td>\n",
       "      <td>22.660325</td>\n",
       "      <td>Calcutta</td>\n",
       "      <td>WestBengal</td>\n",
       "      <td>22.660325,88.388361</td>\n",
       "    </tr>\n",
       "    <tr>\n",
       "      <th>2</th>\n",
       "      <td>605968</td>\n",
       "      <td>-3.264500e+18</td>\n",
       "      <td>2016-05-02 14:23:04</td>\n",
       "      <td>77.256809</td>\n",
       "      <td>28.757906</td>\n",
       "      <td>Delhi</td>\n",
       "      <td>Delhi</td>\n",
       "      <td>28.757906,77.25680899999998</td>\n",
       "    </tr>\n",
       "    <tr>\n",
       "      <th>3</th>\n",
       "      <td>448114</td>\n",
       "      <td>5.731369e+18</td>\n",
       "      <td>2016-05-03 13:21:16</td>\n",
       "      <td>80.343613</td>\n",
       "      <td>13.153332</td>\n",
       "      <td>Chennai</td>\n",
       "      <td>TamilNadu</td>\n",
       "      <td>13.153332,80.34361299999998</td>\n",
       "    </tr>\n",
       "    <tr>\n",
       "      <th>4</th>\n",
       "      <td>665740</td>\n",
       "      <td>3.388880e+17</td>\n",
       "      <td>2016-05-06 03:51:05</td>\n",
       "      <td>85.997745</td>\n",
       "      <td>23.842609</td>\n",
       "      <td>Bokaro</td>\n",
       "      <td>Jharkhand</td>\n",
       "      <td>23.842609,85.997745</td>\n",
       "    </tr>\n",
       "  </tbody>\n",
       "</table>\n",
       "</div>"
      ],
      "text/plain": [
       "   event_id     device_id            timestamp  longitude   latitude  \\\n",
       "0   2765368  2.973348e+18  2016-05-07 22:52:05  77.225676  28.730140   \n",
       "1   2955066  4.734221e+18  2016-05-01 20:44:16  88.388361  22.660325   \n",
       "2    605968 -3.264500e+18  2016-05-02 14:23:04  77.256809  28.757906   \n",
       "3    448114  5.731369e+18  2016-05-03 13:21:16  80.343613  13.153332   \n",
       "4    665740  3.388880e+17  2016-05-06 03:51:05  85.997745  23.842609   \n",
       "\n",
       "       city       state                     lat_long  \n",
       "0     Delhi       Delhi   28.73014,77.22567599999998  \n",
       "1  Calcutta  WestBengal          22.660325,88.388361  \n",
       "2     Delhi       Delhi  28.757906,77.25680899999998  \n",
       "3   Chennai   TamilNadu  13.153332,80.34361299999998  \n",
       "4    Bokaro   Jharkhand          23.842609,85.997745  "
      ]
     },
     "execution_count": 31,
     "metadata": {},
     "output_type": "execute_result"
    }
   ],
   "source": [
    "data.head()"
   ]
  },
  {
   "cell_type": "markdown",
   "metadata": {},
   "source": [
    "# Updating 'state' Missing Values"
   ]
  },
  {
   "cell_type": "code",
   "execution_count": 32,
   "metadata": {},
   "outputs": [],
   "source": [
    "data_state=data[['city','state']]"
   ]
  },
  {
   "cell_type": "code",
   "execution_count": 33,
   "metadata": {},
   "outputs": [],
   "source": [
    "datanull=data_state.dropna().drop_duplicates()"
   ]
  },
  {
   "cell_type": "code",
   "execution_count": 34,
   "metadata": {},
   "outputs": [],
   "source": [
    "datanull=datanull.drop_duplicates(subset=['city'],keep='first')"
   ]
  },
  {
   "cell_type": "code",
   "execution_count": 35,
   "metadata": {},
   "outputs": [
    {
     "data": {
      "text/plain": [
       "3    TamilNadu\n",
       "Name: state, dtype: object"
      ]
     },
     "execution_count": 35,
     "metadata": {},
     "output_type": "execute_result"
    }
   ],
   "source": [
    "datanull.query('city == \"Chennai\"')['state']"
   ]
  },
  {
   "cell_type": "code",
   "execution_count": 36,
   "metadata": {},
   "outputs": [
    {
     "data": {
      "text/plain": [
       "array(['Pune', 'Visakhapatnam', 'Indore', 'Chennai', 'Delhi',\n",
       "       'Channapatna', 'Jaipur', 'Gangarampur', 'Arambagh'], dtype=object)"
      ]
     },
     "execution_count": 36,
     "metadata": {},
     "output_type": "execute_result"
    }
   ],
   "source": [
    "data_city_null = data[data.state.isnull()].city.dropna().unique()\n",
    "data_city_null"
   ]
  },
  {
   "cell_type": "code",
   "execution_count": 37,
   "metadata": {},
   "outputs": [],
   "source": [
    "for ind in data_city_null:\n",
    "    data['state']=np.where(((data['city'] == ind) & (data['state'].isnull())),datanull.query('city == @ind')['state'],data['state'])"
   ]
  },
  {
   "cell_type": "code",
   "execution_count": 38,
   "metadata": {
    "scrolled": false
   },
   "outputs": [
    {
     "data": {
      "text/plain": [
       "event_id     0\n",
       "device_id    0\n",
       "timestamp    0\n",
       "longitude    0\n",
       "latitude     0\n",
       "city         0\n",
       "state        0\n",
       "lat_long     0\n",
       "dtype: int64"
      ]
     },
     "execution_count": 38,
     "metadata": {},
     "output_type": "execute_result"
    }
   ],
   "source": [
    "data.isnull().sum()"
   ]
  },
  {
   "cell_type": "code",
   "execution_count": 39,
   "metadata": {
    "scrolled": true
   },
   "outputs": [
    {
     "data": {
      "text/html": [
       "<div>\n",
       "<style scoped>\n",
       "    .dataframe tbody tr th:only-of-type {\n",
       "        vertical-align: middle;\n",
       "    }\n",
       "\n",
       "    .dataframe tbody tr th {\n",
       "        vertical-align: top;\n",
       "    }\n",
       "\n",
       "    .dataframe thead th {\n",
       "        text-align: right;\n",
       "    }\n",
       "</style>\n",
       "<table border=\"1\" class=\"dataframe\">\n",
       "  <thead>\n",
       "    <tr style=\"text-align: right;\">\n",
       "      <th></th>\n",
       "      <th>event_id</th>\n",
       "      <th>device_id</th>\n",
       "      <th>timestamp</th>\n",
       "      <th>longitude</th>\n",
       "      <th>latitude</th>\n",
       "      <th>city</th>\n",
       "      <th>state</th>\n",
       "      <th>lat_long</th>\n",
       "    </tr>\n",
       "  </thead>\n",
       "  <tbody>\n",
       "    <tr>\n",
       "      <th>0</th>\n",
       "      <td>2765368</td>\n",
       "      <td>2.973348e+18</td>\n",
       "      <td>2016-05-07 22:52:05</td>\n",
       "      <td>77.225676</td>\n",
       "      <td>28.730140</td>\n",
       "      <td>Delhi</td>\n",
       "      <td>Delhi</td>\n",
       "      <td>28.73014,77.22567599999998</td>\n",
       "    </tr>\n",
       "    <tr>\n",
       "      <th>1</th>\n",
       "      <td>2955066</td>\n",
       "      <td>4.734221e+18</td>\n",
       "      <td>2016-05-01 20:44:16</td>\n",
       "      <td>88.388361</td>\n",
       "      <td>22.660325</td>\n",
       "      <td>Calcutta</td>\n",
       "      <td>WestBengal</td>\n",
       "      <td>22.660325,88.388361</td>\n",
       "    </tr>\n",
       "    <tr>\n",
       "      <th>2</th>\n",
       "      <td>605968</td>\n",
       "      <td>-3.264500e+18</td>\n",
       "      <td>2016-05-02 14:23:04</td>\n",
       "      <td>77.256809</td>\n",
       "      <td>28.757906</td>\n",
       "      <td>Delhi</td>\n",
       "      <td>Delhi</td>\n",
       "      <td>28.757906,77.25680899999998</td>\n",
       "    </tr>\n",
       "    <tr>\n",
       "      <th>3</th>\n",
       "      <td>448114</td>\n",
       "      <td>5.731369e+18</td>\n",
       "      <td>2016-05-03 13:21:16</td>\n",
       "      <td>80.343613</td>\n",
       "      <td>13.153332</td>\n",
       "      <td>Chennai</td>\n",
       "      <td>TamilNadu</td>\n",
       "      <td>13.153332,80.34361299999998</td>\n",
       "    </tr>\n",
       "    <tr>\n",
       "      <th>4</th>\n",
       "      <td>665740</td>\n",
       "      <td>3.388880e+17</td>\n",
       "      <td>2016-05-06 03:51:05</td>\n",
       "      <td>85.997745</td>\n",
       "      <td>23.842609</td>\n",
       "      <td>Bokaro</td>\n",
       "      <td>Jharkhand</td>\n",
       "      <td>23.842609,85.997745</td>\n",
       "    </tr>\n",
       "  </tbody>\n",
       "</table>\n",
       "</div>"
      ],
      "text/plain": [
       "   event_id     device_id            timestamp  longitude   latitude  \\\n",
       "0   2765368  2.973348e+18  2016-05-07 22:52:05  77.225676  28.730140   \n",
       "1   2955066  4.734221e+18  2016-05-01 20:44:16  88.388361  22.660325   \n",
       "2    605968 -3.264500e+18  2016-05-02 14:23:04  77.256809  28.757906   \n",
       "3    448114  5.731369e+18  2016-05-03 13:21:16  80.343613  13.153332   \n",
       "4    665740  3.388880e+17  2016-05-06 03:51:05  85.997745  23.842609   \n",
       "\n",
       "       city       state                     lat_long  \n",
       "0     Delhi       Delhi   28.73014,77.22567599999998  \n",
       "1  Calcutta  WestBengal          22.660325,88.388361  \n",
       "2     Delhi       Delhi  28.757906,77.25680899999998  \n",
       "3   Chennai   TamilNadu  13.153332,80.34361299999998  \n",
       "4    Bokaro   Jharkhand          23.842609,85.997745  "
      ]
     },
     "execution_count": 39,
     "metadata": {},
     "output_type": "execute_result"
    }
   ],
   "source": [
    "data.head()"
   ]
  },
  {
   "cell_type": "markdown",
   "metadata": {},
   "source": [
    "# Lat & long outlier imputation"
   ]
  },
  {
   "cell_type": "code",
   "execution_count": 40,
   "metadata": {},
   "outputs": [],
   "source": [
    "data[\"city_state\"] = data[\"city\"] +\",\" +data[\"state\"]"
   ]
  },
  {
   "cell_type": "code",
   "execution_count": 41,
   "metadata": {},
   "outputs": [],
   "source": [
    "#getting max lat long for each city\n",
    "data_max_lat_long = data.groupby([\"city_state\",\"lat_long\"]).count().sort_values(\"event_id\").groupby(level=0).tail(1).reset_index()"
   ]
  },
  {
   "cell_type": "code",
   "execution_count": 42,
   "metadata": {},
   "outputs": [],
   "source": [
    "#filtering and dropping the columns needed\n",
    "data_max_lat_long=data_max_lat_long[['city_state','lat_long']]\n",
    "data_max_lat_long.rename(columns = {'lat_long':'max_latlong'}, inplace = True)\n",
    "#df_final.drop(columns=['latlong'],inplace=True)"
   ]
  },
  {
   "cell_type": "code",
   "execution_count": 43,
   "metadata": {},
   "outputs": [
    {
     "data": {
      "text/html": [
       "<div>\n",
       "<style scoped>\n",
       "    .dataframe tbody tr th:only-of-type {\n",
       "        vertical-align: middle;\n",
       "    }\n",
       "\n",
       "    .dataframe tbody tr th {\n",
       "        vertical-align: top;\n",
       "    }\n",
       "\n",
       "    .dataframe thead th {\n",
       "        text-align: right;\n",
       "    }\n",
       "</style>\n",
       "<table border=\"1\" class=\"dataframe\">\n",
       "  <thead>\n",
       "    <tr style=\"text-align: right;\">\n",
       "      <th></th>\n",
       "      <th>city_state</th>\n",
       "      <th>max_latlong</th>\n",
       "    </tr>\n",
       "  </thead>\n",
       "  <tbody>\n",
       "    <tr>\n",
       "      <th>0</th>\n",
       "      <td>Hyderabad,Telangana</td>\n",
       "      <td>17.459204,78.521052</td>\n",
       "    </tr>\n",
       "    <tr>\n",
       "      <th>1</th>\n",
       "      <td>Attur,TamilNadu</td>\n",
       "      <td>11.674911,78.682538</td>\n",
       "    </tr>\n",
       "    <tr>\n",
       "      <th>2</th>\n",
       "      <td>Sandila,UttarPradesh</td>\n",
       "      <td>27.114582,80.54612399999998</td>\n",
       "    </tr>\n",
       "    <tr>\n",
       "      <th>3</th>\n",
       "      <td>TheniAllinagaram,TamilNadu</td>\n",
       "      <td>10.080929,77.541038</td>\n",
       "    </tr>\n",
       "    <tr>\n",
       "      <th>4</th>\n",
       "      <td>Tenali,AndhraPradesh</td>\n",
       "      <td>16.275399,80.697401</td>\n",
       "    </tr>\n",
       "  </tbody>\n",
       "</table>\n",
       "</div>"
      ],
      "text/plain": [
       "                   city_state                  max_latlong\n",
       "0         Hyderabad,Telangana          17.459204,78.521052\n",
       "1             Attur,TamilNadu          11.674911,78.682538\n",
       "2        Sandila,UttarPradesh  27.114582,80.54612399999998\n",
       "3  TheniAllinagaram,TamilNadu          10.080929,77.541038\n",
       "4        Tenali,AndhraPradesh          16.275399,80.697401"
      ]
     },
     "execution_count": 43,
     "metadata": {},
     "output_type": "execute_result"
    }
   ],
   "source": [
    "data_max_lat_long.head()"
   ]
  },
  {
   "cell_type": "code",
   "execution_count": 44,
   "metadata": {},
   "outputs": [
    {
     "data": {
      "text/plain": [
       "3252950"
      ]
     },
     "execution_count": 44,
     "metadata": {},
     "output_type": "execute_result"
    }
   ],
   "source": [
    "#left join\n",
    "data=pd.merge(data,data_max_lat_long,how='left',on='city_state')\n",
    "len(data)"
   ]
  },
  {
   "cell_type": "code",
   "execution_count": 45,
   "metadata": {},
   "outputs": [
    {
     "data": {
      "text/html": [
       "<div>\n",
       "<style scoped>\n",
       "    .dataframe tbody tr th:only-of-type {\n",
       "        vertical-align: middle;\n",
       "    }\n",
       "\n",
       "    .dataframe tbody tr th {\n",
       "        vertical-align: top;\n",
       "    }\n",
       "\n",
       "    .dataframe thead th {\n",
       "        text-align: right;\n",
       "    }\n",
       "</style>\n",
       "<table border=\"1\" class=\"dataframe\">\n",
       "  <thead>\n",
       "    <tr style=\"text-align: right;\">\n",
       "      <th></th>\n",
       "      <th>event_id</th>\n",
       "      <th>device_id</th>\n",
       "      <th>timestamp</th>\n",
       "      <th>longitude</th>\n",
       "      <th>latitude</th>\n",
       "      <th>city</th>\n",
       "      <th>state</th>\n",
       "      <th>lat_long</th>\n",
       "      <th>city_state</th>\n",
       "      <th>max_latlong</th>\n",
       "    </tr>\n",
       "  </thead>\n",
       "  <tbody>\n",
       "    <tr>\n",
       "      <th>0</th>\n",
       "      <td>2765368</td>\n",
       "      <td>2.973348e+18</td>\n",
       "      <td>2016-05-07 22:52:05</td>\n",
       "      <td>77.225676</td>\n",
       "      <td>28.730140</td>\n",
       "      <td>Delhi</td>\n",
       "      <td>Delhi</td>\n",
       "      <td>28.73014,77.22567599999998</td>\n",
       "      <td>Delhi,Delhi</td>\n",
       "      <td>28.749820000000003,77.29399099999998</td>\n",
       "    </tr>\n",
       "    <tr>\n",
       "      <th>1</th>\n",
       "      <td>2955066</td>\n",
       "      <td>4.734221e+18</td>\n",
       "      <td>2016-05-01 20:44:16</td>\n",
       "      <td>88.388361</td>\n",
       "      <td>22.660325</td>\n",
       "      <td>Calcutta</td>\n",
       "      <td>WestBengal</td>\n",
       "      <td>22.660325,88.388361</td>\n",
       "      <td>Calcutta,WestBengal</td>\n",
       "      <td>22.60745,88.3813</td>\n",
       "    </tr>\n",
       "    <tr>\n",
       "      <th>2</th>\n",
       "      <td>605968</td>\n",
       "      <td>-3.264500e+18</td>\n",
       "      <td>2016-05-02 14:23:04</td>\n",
       "      <td>77.256809</td>\n",
       "      <td>28.757906</td>\n",
       "      <td>Delhi</td>\n",
       "      <td>Delhi</td>\n",
       "      <td>28.757906,77.25680899999998</td>\n",
       "      <td>Delhi,Delhi</td>\n",
       "      <td>28.749820000000003,77.29399099999998</td>\n",
       "    </tr>\n",
       "    <tr>\n",
       "      <th>3</th>\n",
       "      <td>448114</td>\n",
       "      <td>5.731369e+18</td>\n",
       "      <td>2016-05-03 13:21:16</td>\n",
       "      <td>80.343613</td>\n",
       "      <td>13.153332</td>\n",
       "      <td>Chennai</td>\n",
       "      <td>TamilNadu</td>\n",
       "      <td>13.153332,80.34361299999998</td>\n",
       "      <td>Chennai,TamilNadu</td>\n",
       "      <td>13.128174,80.359796</td>\n",
       "    </tr>\n",
       "    <tr>\n",
       "      <th>4</th>\n",
       "      <td>665740</td>\n",
       "      <td>3.388880e+17</td>\n",
       "      <td>2016-05-06 03:51:05</td>\n",
       "      <td>85.997745</td>\n",
       "      <td>23.842609</td>\n",
       "      <td>Bokaro</td>\n",
       "      <td>Jharkhand</td>\n",
       "      <td>23.842609,85.997745</td>\n",
       "      <td>Bokaro,Jharkhand</td>\n",
       "      <td>23.79424,86.000075</td>\n",
       "    </tr>\n",
       "  </tbody>\n",
       "</table>\n",
       "</div>"
      ],
      "text/plain": [
       "   event_id     device_id            timestamp  longitude   latitude  \\\n",
       "0   2765368  2.973348e+18  2016-05-07 22:52:05  77.225676  28.730140   \n",
       "1   2955066  4.734221e+18  2016-05-01 20:44:16  88.388361  22.660325   \n",
       "2    605968 -3.264500e+18  2016-05-02 14:23:04  77.256809  28.757906   \n",
       "3    448114  5.731369e+18  2016-05-03 13:21:16  80.343613  13.153332   \n",
       "4    665740  3.388880e+17  2016-05-06 03:51:05  85.997745  23.842609   \n",
       "\n",
       "       city       state                     lat_long           city_state  \\\n",
       "0     Delhi       Delhi   28.73014,77.22567599999998          Delhi,Delhi   \n",
       "1  Calcutta  WestBengal          22.660325,88.388361  Calcutta,WestBengal   \n",
       "2     Delhi       Delhi  28.757906,77.25680899999998          Delhi,Delhi   \n",
       "3   Chennai   TamilNadu  13.153332,80.34361299999998    Chennai,TamilNadu   \n",
       "4    Bokaro   Jharkhand          23.842609,85.997745     Bokaro,Jharkhand   \n",
       "\n",
       "                            max_latlong  \n",
       "0  28.749820000000003,77.29399099999998  \n",
       "1                      22.60745,88.3813  \n",
       "2  28.749820000000003,77.29399099999998  \n",
       "3                   13.128174,80.359796  \n",
       "4                    23.79424,86.000075  "
      ]
     },
     "execution_count": 45,
     "metadata": {},
     "output_type": "execute_result"
    }
   ],
   "source": [
    "data.head()"
   ]
  },
  {
   "cell_type": "code",
   "execution_count": 46,
   "metadata": {},
   "outputs": [
    {
     "data": {
      "text/plain": [
       "3252950"
      ]
     },
     "execution_count": 46,
     "metadata": {},
     "output_type": "execute_result"
    }
   ],
   "source": [
    "#splitting the latlong column and joining with original dataframe\n",
    "data_split=data['max_latlong'].str.split(',',expand=True)\n",
    "data=data.join(data_split)\n",
    "len(data)"
   ]
  },
  {
   "cell_type": "code",
   "execution_count": 47,
   "metadata": {},
   "outputs": [
    {
     "data": {
      "text/html": [
       "<div>\n",
       "<style scoped>\n",
       "    .dataframe tbody tr th:only-of-type {\n",
       "        vertical-align: middle;\n",
       "    }\n",
       "\n",
       "    .dataframe tbody tr th {\n",
       "        vertical-align: top;\n",
       "    }\n",
       "\n",
       "    .dataframe thead th {\n",
       "        text-align: right;\n",
       "    }\n",
       "</style>\n",
       "<table border=\"1\" class=\"dataframe\">\n",
       "  <thead>\n",
       "    <tr style=\"text-align: right;\">\n",
       "      <th></th>\n",
       "      <th>event_id</th>\n",
       "      <th>device_id</th>\n",
       "      <th>timestamp</th>\n",
       "      <th>longitude</th>\n",
       "      <th>latitude</th>\n",
       "      <th>city</th>\n",
       "      <th>state</th>\n",
       "      <th>lat_long</th>\n",
       "      <th>city_state</th>\n",
       "      <th>max_latlong</th>\n",
       "      <th>0</th>\n",
       "      <th>1</th>\n",
       "    </tr>\n",
       "  </thead>\n",
       "  <tbody>\n",
       "    <tr>\n",
       "      <th>0</th>\n",
       "      <td>2765368</td>\n",
       "      <td>2.973348e+18</td>\n",
       "      <td>2016-05-07 22:52:05</td>\n",
       "      <td>77.225676</td>\n",
       "      <td>28.730140</td>\n",
       "      <td>Delhi</td>\n",
       "      <td>Delhi</td>\n",
       "      <td>28.73014,77.22567599999998</td>\n",
       "      <td>Delhi,Delhi</td>\n",
       "      <td>28.749820000000003,77.29399099999998</td>\n",
       "      <td>28.749820000000003</td>\n",
       "      <td>77.29399099999998</td>\n",
       "    </tr>\n",
       "    <tr>\n",
       "      <th>1</th>\n",
       "      <td>2955066</td>\n",
       "      <td>4.734221e+18</td>\n",
       "      <td>2016-05-01 20:44:16</td>\n",
       "      <td>88.388361</td>\n",
       "      <td>22.660325</td>\n",
       "      <td>Calcutta</td>\n",
       "      <td>WestBengal</td>\n",
       "      <td>22.660325,88.388361</td>\n",
       "      <td>Calcutta,WestBengal</td>\n",
       "      <td>22.60745,88.3813</td>\n",
       "      <td>22.60745</td>\n",
       "      <td>88.3813</td>\n",
       "    </tr>\n",
       "    <tr>\n",
       "      <th>2</th>\n",
       "      <td>605968</td>\n",
       "      <td>-3.264500e+18</td>\n",
       "      <td>2016-05-02 14:23:04</td>\n",
       "      <td>77.256809</td>\n",
       "      <td>28.757906</td>\n",
       "      <td>Delhi</td>\n",
       "      <td>Delhi</td>\n",
       "      <td>28.757906,77.25680899999998</td>\n",
       "      <td>Delhi,Delhi</td>\n",
       "      <td>28.749820000000003,77.29399099999998</td>\n",
       "      <td>28.749820000000003</td>\n",
       "      <td>77.29399099999998</td>\n",
       "    </tr>\n",
       "    <tr>\n",
       "      <th>3</th>\n",
       "      <td>448114</td>\n",
       "      <td>5.731369e+18</td>\n",
       "      <td>2016-05-03 13:21:16</td>\n",
       "      <td>80.343613</td>\n",
       "      <td>13.153332</td>\n",
       "      <td>Chennai</td>\n",
       "      <td>TamilNadu</td>\n",
       "      <td>13.153332,80.34361299999998</td>\n",
       "      <td>Chennai,TamilNadu</td>\n",
       "      <td>13.128174,80.359796</td>\n",
       "      <td>13.128174</td>\n",
       "      <td>80.359796</td>\n",
       "    </tr>\n",
       "    <tr>\n",
       "      <th>4</th>\n",
       "      <td>665740</td>\n",
       "      <td>3.388880e+17</td>\n",
       "      <td>2016-05-06 03:51:05</td>\n",
       "      <td>85.997745</td>\n",
       "      <td>23.842609</td>\n",
       "      <td>Bokaro</td>\n",
       "      <td>Jharkhand</td>\n",
       "      <td>23.842609,85.997745</td>\n",
       "      <td>Bokaro,Jharkhand</td>\n",
       "      <td>23.79424,86.000075</td>\n",
       "      <td>23.79424</td>\n",
       "      <td>86.000075</td>\n",
       "    </tr>\n",
       "  </tbody>\n",
       "</table>\n",
       "</div>"
      ],
      "text/plain": [
       "   event_id     device_id            timestamp  longitude   latitude  \\\n",
       "0   2765368  2.973348e+18  2016-05-07 22:52:05  77.225676  28.730140   \n",
       "1   2955066  4.734221e+18  2016-05-01 20:44:16  88.388361  22.660325   \n",
       "2    605968 -3.264500e+18  2016-05-02 14:23:04  77.256809  28.757906   \n",
       "3    448114  5.731369e+18  2016-05-03 13:21:16  80.343613  13.153332   \n",
       "4    665740  3.388880e+17  2016-05-06 03:51:05  85.997745  23.842609   \n",
       "\n",
       "       city       state                     lat_long           city_state  \\\n",
       "0     Delhi       Delhi   28.73014,77.22567599999998          Delhi,Delhi   \n",
       "1  Calcutta  WestBengal          22.660325,88.388361  Calcutta,WestBengal   \n",
       "2     Delhi       Delhi  28.757906,77.25680899999998          Delhi,Delhi   \n",
       "3   Chennai   TamilNadu  13.153332,80.34361299999998    Chennai,TamilNadu   \n",
       "4    Bokaro   Jharkhand          23.842609,85.997745     Bokaro,Jharkhand   \n",
       "\n",
       "                            max_latlong                   0                  1  \n",
       "0  28.749820000000003,77.29399099999998  28.749820000000003  77.29399099999998  \n",
       "1                      22.60745,88.3813            22.60745            88.3813  \n",
       "2  28.749820000000003,77.29399099999998  28.749820000000003  77.29399099999998  \n",
       "3                   13.128174,80.359796           13.128174          80.359796  \n",
       "4                    23.79424,86.000075            23.79424          86.000075  "
      ]
     },
     "execution_count": 47,
     "metadata": {},
     "output_type": "execute_result"
    }
   ],
   "source": [
    "data.head()"
   ]
  },
  {
   "cell_type": "code",
   "execution_count": 48,
   "metadata": {},
   "outputs": [],
   "source": [
    "#renaming columns and roudning the values to six decimal places\n",
    "data.rename(columns={0:'lat_max',1:'long_max'},inplace=True)\n",
    "data['lat_max']=data['lat_max'].astype('float').round(decimals=6)\n",
    "data['long_max']=data['long_max'].astype('float').round(decimals=6)"
   ]
  },
  {
   "cell_type": "code",
   "execution_count": 49,
   "metadata": {
    "scrolled": true
   },
   "outputs": [
    {
     "data": {
      "text/html": [
       "<div>\n",
       "<style scoped>\n",
       "    .dataframe tbody tr th:only-of-type {\n",
       "        vertical-align: middle;\n",
       "    }\n",
       "\n",
       "    .dataframe tbody tr th {\n",
       "        vertical-align: top;\n",
       "    }\n",
       "\n",
       "    .dataframe thead th {\n",
       "        text-align: right;\n",
       "    }\n",
       "</style>\n",
       "<table border=\"1\" class=\"dataframe\">\n",
       "  <thead>\n",
       "    <tr style=\"text-align: right;\">\n",
       "      <th></th>\n",
       "      <th>event_id</th>\n",
       "      <th>device_id</th>\n",
       "      <th>timestamp</th>\n",
       "      <th>longitude</th>\n",
       "      <th>latitude</th>\n",
       "      <th>city</th>\n",
       "      <th>state</th>\n",
       "      <th>lat_long</th>\n",
       "      <th>city_state</th>\n",
       "      <th>max_latlong</th>\n",
       "      <th>lat_max</th>\n",
       "      <th>long_max</th>\n",
       "    </tr>\n",
       "  </thead>\n",
       "  <tbody>\n",
       "    <tr>\n",
       "      <th>0</th>\n",
       "      <td>2765368</td>\n",
       "      <td>2.973348e+18</td>\n",
       "      <td>2016-05-07 22:52:05</td>\n",
       "      <td>77.225676</td>\n",
       "      <td>28.730140</td>\n",
       "      <td>Delhi</td>\n",
       "      <td>Delhi</td>\n",
       "      <td>28.73014,77.22567599999998</td>\n",
       "      <td>Delhi,Delhi</td>\n",
       "      <td>28.749820000000003,77.29399099999998</td>\n",
       "      <td>28.749820</td>\n",
       "      <td>77.293991</td>\n",
       "    </tr>\n",
       "    <tr>\n",
       "      <th>1</th>\n",
       "      <td>2955066</td>\n",
       "      <td>4.734221e+18</td>\n",
       "      <td>2016-05-01 20:44:16</td>\n",
       "      <td>88.388361</td>\n",
       "      <td>22.660325</td>\n",
       "      <td>Calcutta</td>\n",
       "      <td>WestBengal</td>\n",
       "      <td>22.660325,88.388361</td>\n",
       "      <td>Calcutta,WestBengal</td>\n",
       "      <td>22.60745,88.3813</td>\n",
       "      <td>22.607450</td>\n",
       "      <td>88.381300</td>\n",
       "    </tr>\n",
       "    <tr>\n",
       "      <th>2</th>\n",
       "      <td>605968</td>\n",
       "      <td>-3.264500e+18</td>\n",
       "      <td>2016-05-02 14:23:04</td>\n",
       "      <td>77.256809</td>\n",
       "      <td>28.757906</td>\n",
       "      <td>Delhi</td>\n",
       "      <td>Delhi</td>\n",
       "      <td>28.757906,77.25680899999998</td>\n",
       "      <td>Delhi,Delhi</td>\n",
       "      <td>28.749820000000003,77.29399099999998</td>\n",
       "      <td>28.749820</td>\n",
       "      <td>77.293991</td>\n",
       "    </tr>\n",
       "    <tr>\n",
       "      <th>3</th>\n",
       "      <td>448114</td>\n",
       "      <td>5.731369e+18</td>\n",
       "      <td>2016-05-03 13:21:16</td>\n",
       "      <td>80.343613</td>\n",
       "      <td>13.153332</td>\n",
       "      <td>Chennai</td>\n",
       "      <td>TamilNadu</td>\n",
       "      <td>13.153332,80.34361299999998</td>\n",
       "      <td>Chennai,TamilNadu</td>\n",
       "      <td>13.128174,80.359796</td>\n",
       "      <td>13.128174</td>\n",
       "      <td>80.359796</td>\n",
       "    </tr>\n",
       "    <tr>\n",
       "      <th>4</th>\n",
       "      <td>665740</td>\n",
       "      <td>3.388880e+17</td>\n",
       "      <td>2016-05-06 03:51:05</td>\n",
       "      <td>85.997745</td>\n",
       "      <td>23.842609</td>\n",
       "      <td>Bokaro</td>\n",
       "      <td>Jharkhand</td>\n",
       "      <td>23.842609,85.997745</td>\n",
       "      <td>Bokaro,Jharkhand</td>\n",
       "      <td>23.79424,86.000075</td>\n",
       "      <td>23.794240</td>\n",
       "      <td>86.000075</td>\n",
       "    </tr>\n",
       "  </tbody>\n",
       "</table>\n",
       "</div>"
      ],
      "text/plain": [
       "   event_id     device_id            timestamp  longitude   latitude  \\\n",
       "0   2765368  2.973348e+18  2016-05-07 22:52:05  77.225676  28.730140   \n",
       "1   2955066  4.734221e+18  2016-05-01 20:44:16  88.388361  22.660325   \n",
       "2    605968 -3.264500e+18  2016-05-02 14:23:04  77.256809  28.757906   \n",
       "3    448114  5.731369e+18  2016-05-03 13:21:16  80.343613  13.153332   \n",
       "4    665740  3.388880e+17  2016-05-06 03:51:05  85.997745  23.842609   \n",
       "\n",
       "       city       state                     lat_long           city_state  \\\n",
       "0     Delhi       Delhi   28.73014,77.22567599999998          Delhi,Delhi   \n",
       "1  Calcutta  WestBengal          22.660325,88.388361  Calcutta,WestBengal   \n",
       "2     Delhi       Delhi  28.757906,77.25680899999998          Delhi,Delhi   \n",
       "3   Chennai   TamilNadu  13.153332,80.34361299999998    Chennai,TamilNadu   \n",
       "4    Bokaro   Jharkhand          23.842609,85.997745     Bokaro,Jharkhand   \n",
       "\n",
       "                            max_latlong    lat_max   long_max  \n",
       "0  28.749820000000003,77.29399099999998  28.749820  77.293991  \n",
       "1                      22.60745,88.3813  22.607450  88.381300  \n",
       "2  28.749820000000003,77.29399099999998  28.749820  77.293991  \n",
       "3                   13.128174,80.359796  13.128174  80.359796  \n",
       "4                    23.79424,86.000075  23.794240  86.000075  "
      ]
     },
     "execution_count": 49,
     "metadata": {},
     "output_type": "execute_result"
    }
   ],
   "source": [
    "data.head()"
   ]
  },
  {
   "cell_type": "code",
   "execution_count": 50,
   "metadata": {},
   "outputs": [],
   "source": [
    "#haversine formula\n",
    "def haversine(lat1, lon1, lat2, lon2, to_radians=True, earth_radius=6371):\n",
    "    if to_radians:\n",
    "        lat1, lon1, lat2, lon2 = np.radians([lat1, lon1, lat2, lon2])\n",
    "        a = np.sin((lat2-lat1)/2.0)**2 + \\\n",
    "        np.cos(lat1) * np.cos(lat2) * np.sin((lon2-lon1)/2.0)**2\n",
    "    return earth_radius * 2 * np.arcsin(np.sqrt(a))"
   ]
  },
  {
   "cell_type": "code",
   "execution_count": 51,
   "metadata": {},
   "outputs": [],
   "source": [
    "#finding distance between lat long and max lat long\n",
    "#greater distance between two points is outlayer\n",
    "#handling the outlayer is done by replacing that lat long with max lat long\n",
    "data['dist'] = haversine(data.latitude, data.longitude,data.lat_max,data.long_max)"
   ]
  },
  {
   "cell_type": "code",
   "execution_count": 52,
   "metadata": {
    "scrolled": false
   },
   "outputs": [
    {
     "data": {
      "text/html": [
       "<div>\n",
       "<style scoped>\n",
       "    .dataframe tbody tr th:only-of-type {\n",
       "        vertical-align: middle;\n",
       "    }\n",
       "\n",
       "    .dataframe tbody tr th {\n",
       "        vertical-align: top;\n",
       "    }\n",
       "\n",
       "    .dataframe thead th {\n",
       "        text-align: right;\n",
       "    }\n",
       "</style>\n",
       "<table border=\"1\" class=\"dataframe\">\n",
       "  <thead>\n",
       "    <tr style=\"text-align: right;\">\n",
       "      <th></th>\n",
       "      <th>event_id</th>\n",
       "      <th>device_id</th>\n",
       "      <th>timestamp</th>\n",
       "      <th>longitude</th>\n",
       "      <th>latitude</th>\n",
       "      <th>city</th>\n",
       "      <th>state</th>\n",
       "      <th>lat_long</th>\n",
       "      <th>city_state</th>\n",
       "      <th>max_latlong</th>\n",
       "      <th>lat_max</th>\n",
       "      <th>long_max</th>\n",
       "      <th>dist</th>\n",
       "    </tr>\n",
       "  </thead>\n",
       "  <tbody>\n",
       "    <tr>\n",
       "      <th>0</th>\n",
       "      <td>2765368</td>\n",
       "      <td>2.973348e+18</td>\n",
       "      <td>2016-05-07 22:52:05</td>\n",
       "      <td>77.225676</td>\n",
       "      <td>28.730140</td>\n",
       "      <td>Delhi</td>\n",
       "      <td>Delhi</td>\n",
       "      <td>28.73014,77.22567599999998</td>\n",
       "      <td>Delhi,Delhi</td>\n",
       "      <td>28.749820000000003,77.29399099999998</td>\n",
       "      <td>28.749820</td>\n",
       "      <td>77.293991</td>\n",
       "      <td>7.010778</td>\n",
       "    </tr>\n",
       "    <tr>\n",
       "      <th>1</th>\n",
       "      <td>2955066</td>\n",
       "      <td>4.734221e+18</td>\n",
       "      <td>2016-05-01 20:44:16</td>\n",
       "      <td>88.388361</td>\n",
       "      <td>22.660325</td>\n",
       "      <td>Calcutta</td>\n",
       "      <td>WestBengal</td>\n",
       "      <td>22.660325,88.388361</td>\n",
       "      <td>Calcutta,WestBengal</td>\n",
       "      <td>22.60745,88.3813</td>\n",
       "      <td>22.607450</td>\n",
       "      <td>88.381300</td>\n",
       "      <td>5.923924</td>\n",
       "    </tr>\n",
       "    <tr>\n",
       "      <th>2</th>\n",
       "      <td>605968</td>\n",
       "      <td>-3.264500e+18</td>\n",
       "      <td>2016-05-02 14:23:04</td>\n",
       "      <td>77.256809</td>\n",
       "      <td>28.757906</td>\n",
       "      <td>Delhi</td>\n",
       "      <td>Delhi</td>\n",
       "      <td>28.757906,77.25680899999998</td>\n",
       "      <td>Delhi,Delhi</td>\n",
       "      <td>28.749820000000003,77.29399099999998</td>\n",
       "      <td>28.749820</td>\n",
       "      <td>77.293991</td>\n",
       "      <td>3.734501</td>\n",
       "    </tr>\n",
       "    <tr>\n",
       "      <th>3</th>\n",
       "      <td>448114</td>\n",
       "      <td>5.731369e+18</td>\n",
       "      <td>2016-05-03 13:21:16</td>\n",
       "      <td>80.343613</td>\n",
       "      <td>13.153332</td>\n",
       "      <td>Chennai</td>\n",
       "      <td>TamilNadu</td>\n",
       "      <td>13.153332,80.34361299999998</td>\n",
       "      <td>Chennai,TamilNadu</td>\n",
       "      <td>13.128174,80.359796</td>\n",
       "      <td>13.128174</td>\n",
       "      <td>80.359796</td>\n",
       "      <td>3.300970</td>\n",
       "    </tr>\n",
       "    <tr>\n",
       "      <th>4</th>\n",
       "      <td>665740</td>\n",
       "      <td>3.388880e+17</td>\n",
       "      <td>2016-05-06 03:51:05</td>\n",
       "      <td>85.997745</td>\n",
       "      <td>23.842609</td>\n",
       "      <td>Bokaro</td>\n",
       "      <td>Jharkhand</td>\n",
       "      <td>23.842609,85.997745</td>\n",
       "      <td>Bokaro,Jharkhand</td>\n",
       "      <td>23.79424,86.000075</td>\n",
       "      <td>23.794240</td>\n",
       "      <td>86.000075</td>\n",
       "      <td>5.383607</td>\n",
       "    </tr>\n",
       "  </tbody>\n",
       "</table>\n",
       "</div>"
      ],
      "text/plain": [
       "   event_id     device_id            timestamp  longitude   latitude  \\\n",
       "0   2765368  2.973348e+18  2016-05-07 22:52:05  77.225676  28.730140   \n",
       "1   2955066  4.734221e+18  2016-05-01 20:44:16  88.388361  22.660325   \n",
       "2    605968 -3.264500e+18  2016-05-02 14:23:04  77.256809  28.757906   \n",
       "3    448114  5.731369e+18  2016-05-03 13:21:16  80.343613  13.153332   \n",
       "4    665740  3.388880e+17  2016-05-06 03:51:05  85.997745  23.842609   \n",
       "\n",
       "       city       state                     lat_long           city_state  \\\n",
       "0     Delhi       Delhi   28.73014,77.22567599999998          Delhi,Delhi   \n",
       "1  Calcutta  WestBengal          22.660325,88.388361  Calcutta,WestBengal   \n",
       "2     Delhi       Delhi  28.757906,77.25680899999998          Delhi,Delhi   \n",
       "3   Chennai   TamilNadu  13.153332,80.34361299999998    Chennai,TamilNadu   \n",
       "4    Bokaro   Jharkhand          23.842609,85.997745     Bokaro,Jharkhand   \n",
       "\n",
       "                            max_latlong    lat_max   long_max      dist  \n",
       "0  28.749820000000003,77.29399099999998  28.749820  77.293991  7.010778  \n",
       "1                      22.60745,88.3813  22.607450  88.381300  5.923924  \n",
       "2  28.749820000000003,77.29399099999998  28.749820  77.293991  3.734501  \n",
       "3                   13.128174,80.359796  13.128174  80.359796  3.300970  \n",
       "4                    23.79424,86.000075  23.794240  86.000075  5.383607  "
      ]
     },
     "execution_count": 52,
     "metadata": {},
     "output_type": "execute_result"
    }
   ],
   "source": [
    "data.head()"
   ]
  },
  {
   "cell_type": "code",
   "execution_count": 53,
   "metadata": {},
   "outputs": [
    {
     "data": {
      "text/plain": [
       "event_id       63\n",
       "device_id      63\n",
       "timestamp      63\n",
       "longitude      63\n",
       "latitude       63\n",
       "city           63\n",
       "state          63\n",
       "lat_long       63\n",
       "city_state     63\n",
       "max_latlong    63\n",
       "lat_max        63\n",
       "long_max       63\n",
       "dist           63\n",
       "dtype: int64"
      ]
     },
     "execution_count": 53,
     "metadata": {},
     "output_type": "execute_result"
    }
   ],
   "source": [
    "data[data['dist'] > 30].count() # lat/long Outliers"
   ]
  },
  {
   "cell_type": "code",
   "execution_count": 54,
   "metadata": {},
   "outputs": [],
   "source": [
    "#handling outliers\n",
    "data['longitude']=np.where(data['dist']>30,data['long_max'],data['longitude'])\n",
    "data['latitude']=np.where(data['dist']>30,data['lat_max'],data['latitude'])"
   ]
  },
  {
   "cell_type": "code",
   "execution_count": 55,
   "metadata": {},
   "outputs": [],
   "source": [
    "#filtering req columns alone\n",
    "data_final=data[['event_id','device_id','timestamp','longitude','latitude','city','state']]"
   ]
  },
  {
   "cell_type": "code",
   "execution_count": 56,
   "metadata": {
    "scrolled": true
   },
   "outputs": [
    {
     "name": "stdout",
     "output_type": "stream",
     "text": [
      "<class 'pandas.core.frame.DataFrame'>\n",
      "Int64Index: 3252950 entries, 0 to 3252949\n",
      "Data columns (total 7 columns):\n",
      " #   Column     Dtype  \n",
      "---  ------     -----  \n",
      " 0   event_id   int64  \n",
      " 1   device_id  float64\n",
      " 2   timestamp  object \n",
      " 3   longitude  float64\n",
      " 4   latitude   float64\n",
      " 5   city       object \n",
      " 6   state      object \n",
      "dtypes: float64(3), int64(1), object(3)\n",
      "memory usage: 327.5+ MB\n"
     ]
    }
   ],
   "source": [
    "data_final.info()"
   ]
  },
  {
   "cell_type": "code",
   "execution_count": 57,
   "metadata": {},
   "outputs": [
    {
     "data": {
      "text/plain": [
       "event_id     0\n",
       "device_id    0\n",
       "timestamp    0\n",
       "longitude    0\n",
       "latitude     0\n",
       "city         0\n",
       "state        0\n",
       "dtype: int64"
      ]
     },
     "execution_count": 57,
     "metadata": {},
     "output_type": "execute_result"
    }
   ],
   "source": [
    "data_final.isnull().sum() #No more missing value"
   ]
  },
  {
   "cell_type": "markdown",
   "metadata": {},
   "source": [
    "# Phone_data pre processing"
   ]
  },
  {
   "cell_type": "code",
   "execution_count": 58,
   "metadata": {},
   "outputs": [],
   "source": [
    "#import mysql.connector as connection\n",
    "#try:\n",
    "   # mydb = connection.connect(host=\"cpanel.insaid.co\", database =\"Capstone1\", user=\"student\", passwd=\"student\", use_pure=True)\n",
    "   # query = \"Select * from phone_brand_device_model limit 100;\"\n",
    "   # result_dataFrame = pd.read_sql(query,mydb)\n",
    "   # mydb.close() #close the connection\n",
    "#except Exception as e:\n",
    "   # mydb.close()\n",
    "   # print(str(e))\n",
    "# print(result_dataFrame)"
   ]
  },
  {
   "cell_type": "code",
   "execution_count": 59,
   "metadata": {
    "scrolled": false
   },
   "outputs": [
    {
     "name": "stdout",
     "output_type": "stream",
     "text": [
      "Data Shape: (87726, 3)\n"
     ]
    },
    {
     "data": {
      "text/html": [
       "<div>\n",
       "<style scoped>\n",
       "    .dataframe tbody tr th:only-of-type {\n",
       "        vertical-align: middle;\n",
       "    }\n",
       "\n",
       "    .dataframe tbody tr th {\n",
       "        vertical-align: top;\n",
       "    }\n",
       "\n",
       "    .dataframe thead th {\n",
       "        text-align: right;\n",
       "    }\n",
       "</style>\n",
       "<table border=\"1\" class=\"dataframe\">\n",
       "  <thead>\n",
       "    <tr style=\"text-align: right;\">\n",
       "      <th></th>\n",
       "      <th>device_id</th>\n",
       "      <th>phone_brand</th>\n",
       "      <th>device_model</th>\n",
       "    </tr>\n",
       "  </thead>\n",
       "  <tbody>\n",
       "    <tr>\n",
       "      <th>0</th>\n",
       "      <td>1877775838486905855</td>\n",
       "      <td>vivo</td>\n",
       "      <td>Y13</td>\n",
       "    </tr>\n",
       "    <tr>\n",
       "      <th>1</th>\n",
       "      <td>-3766087376657242966</td>\n",
       "      <td>小米</td>\n",
       "      <td>V183</td>\n",
       "    </tr>\n",
       "    <tr>\n",
       "      <th>2</th>\n",
       "      <td>-6238937574958215831</td>\n",
       "      <td>OPPO</td>\n",
       "      <td>R7s</td>\n",
       "    </tr>\n",
       "    <tr>\n",
       "      <th>3</th>\n",
       "      <td>8973197758510677470</td>\n",
       "      <td>三星</td>\n",
       "      <td>A368t</td>\n",
       "    </tr>\n",
       "    <tr>\n",
       "      <th>4</th>\n",
       "      <td>-2015528097870762664</td>\n",
       "      <td>小米</td>\n",
       "      <td>红米Note2</td>\n",
       "    </tr>\n",
       "  </tbody>\n",
       "</table>\n",
       "</div>"
      ],
      "text/plain": [
       "             device_id phone_brand device_model\n",
       "0  1877775838486905855        vivo          Y13\n",
       "1 -3766087376657242966          小米         V183\n",
       "2 -6238937574958215831        OPPO          R7s\n",
       "3  8973197758510677470          三星        A368t\n",
       "4 -2015528097870762664          小米      红米Note2"
      ]
     },
     "execution_count": 59,
     "metadata": {},
     "output_type": "execute_result"
    }
   ],
   "source": [
    "data_phone = pd.read_csv(filepath_or_buffer = \"phone_brand_device_model.csv\")\n",
    "print('Data Shape:', data_phone.shape)\n",
    "data_phone.head()"
   ]
  },
  {
   "cell_type": "code",
   "execution_count": 60,
   "metadata": {},
   "outputs": [],
   "source": [
    "#Updating non-english phone_brand with english\n",
    "brand_data=pd.read_excel('phone_brand_mapping.xlsx')"
   ]
  },
  {
   "cell_type": "code",
   "execution_count": 61,
   "metadata": {},
   "outputs": [
    {
     "name": "stdout",
     "output_type": "stream",
     "text": [
      "<class 'pandas.core.frame.DataFrame'>\n",
      "RangeIndex: 10 entries, 0 to 9\n",
      "Data columns (total 2 columns):\n",
      " #   Column                 Non-Null Count  Dtype \n",
      "---  ------                 --------------  ----- \n",
      " 0   Brand Name             10 non-null     object\n",
      " 1   Brand English Mapping  10 non-null     object\n",
      "dtypes: object(2)\n",
      "memory usage: 288.0+ bytes\n"
     ]
    }
   ],
   "source": [
    "brand_data.info()"
   ]
  },
  {
   "cell_type": "code",
   "execution_count": 62,
   "metadata": {},
   "outputs": [],
   "source": [
    "#getting that into list\n",
    "name=list(brand_data['Brand Name'])\n",
    "mapping=list(brand_data['Brand English Mapping'])"
   ]
  },
  {
   "cell_type": "code",
   "execution_count": 63,
   "metadata": {},
   "outputs": [
    {
     "data": {
      "text/plain": [
       "[\"'华为'\",\n",
       " \"'小米'\",\n",
       " \"'三星'\",\n",
       " \"'vivo'\",\n",
       " \"'OPPO'\",\n",
       " \"'魅族'\",\n",
       " \"'酷派'\",\n",
       " \"'乐视'\",\n",
       " \"'联想 '\",\n",
       " \"'HTC'\"]"
      ]
     },
     "execution_count": 63,
     "metadata": {},
     "output_type": "execute_result"
    }
   ],
   "source": [
    "name"
   ]
  },
  {
   "cell_type": "code",
   "execution_count": 64,
   "metadata": {},
   "outputs": [],
   "source": [
    "#removing the single quotes\n",
    "name=[i.lstrip(\"'\").rstrip(\"\\xa0'\") for i in name]\n",
    "mapping=[i.lstrip(\"'\").rstrip(\"'\") for i in mapping]"
   ]
  },
  {
   "cell_type": "code",
   "execution_count": 65,
   "metadata": {},
   "outputs": [],
   "source": [
    "#duplicating the column for validation\n",
    "data_phone['phone_brand_copy']=data_phone['phone_brand']"
   ]
  },
  {
   "cell_type": "code",
   "execution_count": 66,
   "metadata": {},
   "outputs": [],
   "source": [
    "#creating dictinoary that can be mapped later to replace function\n",
    "match=dict(zip(name,mapping))"
   ]
  },
  {
   "cell_type": "code",
   "execution_count": 67,
   "metadata": {},
   "outputs": [
    {
     "data": {
      "text/plain": [
       "{'华为': 'Huawei',\n",
       " '小米': 'Xiaomi',\n",
       " '三星': 'Samsung',\n",
       " 'vivo': 'vivo',\n",
       " 'OPPO': 'OPPO',\n",
       " '魅族': 'Meizu',\n",
       " '酷派': 'Coolpad',\n",
       " '乐视': 'LeEco',\n",
       " '联想 ': 'Lenovo',\n",
       " 'HTC': 'HTC'}"
      ]
     },
     "execution_count": 67,
     "metadata": {},
     "output_type": "execute_result"
    }
   ],
   "source": [
    "match"
   ]
  },
  {
   "cell_type": "code",
   "execution_count": 68,
   "metadata": {},
   "outputs": [],
   "source": [
    "del match[\"HTC\"]\n",
    "del match[\"OPPO\"]\n",
    "del match[\"vivo\"]"
   ]
  },
  {
   "cell_type": "code",
   "execution_count": 69,
   "metadata": {},
   "outputs": [
    {
     "data": {
      "text/plain": [
       "87726"
      ]
     },
     "execution_count": 69,
     "metadata": {},
     "output_type": "execute_result"
    }
   ],
   "source": [
    "#replacing the symbols\n",
    "data_phone_final=data_phone.replace({'phone_brand':match},regex=True)\n",
    "len(data_phone_final)"
   ]
  },
  {
   "cell_type": "code",
   "execution_count": 70,
   "metadata": {},
   "outputs": [
    {
     "data": {
      "text/plain": [
       "87726"
      ]
     },
     "execution_count": 70,
     "metadata": {},
     "output_type": "execute_result"
    }
   ],
   "source": [
    "#validating the results\n",
    "data_phone_final[data_phone_final['phone_brand_copy'].isin(name)]\n",
    "len(data_phone_final)"
   ]
  },
  {
   "cell_type": "code",
   "execution_count": 71,
   "metadata": {
    "scrolled": false
   },
   "outputs": [
    {
     "data": {
      "text/html": [
       "<div>\n",
       "<style scoped>\n",
       "    .dataframe tbody tr th:only-of-type {\n",
       "        vertical-align: middle;\n",
       "    }\n",
       "\n",
       "    .dataframe tbody tr th {\n",
       "        vertical-align: top;\n",
       "    }\n",
       "\n",
       "    .dataframe thead th {\n",
       "        text-align: right;\n",
       "    }\n",
       "</style>\n",
       "<table border=\"1\" class=\"dataframe\">\n",
       "  <thead>\n",
       "    <tr style=\"text-align: right;\">\n",
       "      <th></th>\n",
       "      <th>device_id</th>\n",
       "      <th>phone_brand</th>\n",
       "      <th>device_model</th>\n",
       "      <th>phone_brand_copy</th>\n",
       "    </tr>\n",
       "  </thead>\n",
       "  <tbody>\n",
       "    <tr>\n",
       "      <th>0</th>\n",
       "      <td>1877775838486905855</td>\n",
       "      <td>vivo</td>\n",
       "      <td>Y13</td>\n",
       "      <td>vivo</td>\n",
       "    </tr>\n",
       "    <tr>\n",
       "      <th>1</th>\n",
       "      <td>-3766087376657242966</td>\n",
       "      <td>Xiaomi</td>\n",
       "      <td>V183</td>\n",
       "      <td>小米</td>\n",
       "    </tr>\n",
       "    <tr>\n",
       "      <th>2</th>\n",
       "      <td>-6238937574958215831</td>\n",
       "      <td>OPPO</td>\n",
       "      <td>R7s</td>\n",
       "      <td>OPPO</td>\n",
       "    </tr>\n",
       "    <tr>\n",
       "      <th>3</th>\n",
       "      <td>8973197758510677470</td>\n",
       "      <td>Samsung</td>\n",
       "      <td>A368t</td>\n",
       "      <td>三星</td>\n",
       "    </tr>\n",
       "    <tr>\n",
       "      <th>4</th>\n",
       "      <td>-2015528097870762664</td>\n",
       "      <td>Xiaomi</td>\n",
       "      <td>红米Note2</td>\n",
       "      <td>小米</td>\n",
       "    </tr>\n",
       "  </tbody>\n",
       "</table>\n",
       "</div>"
      ],
      "text/plain": [
       "             device_id phone_brand device_model phone_brand_copy\n",
       "0  1877775838486905855        vivo          Y13             vivo\n",
       "1 -3766087376657242966      Xiaomi         V183               小米\n",
       "2 -6238937574958215831        OPPO          R7s             OPPO\n",
       "3  8973197758510677470     Samsung        A368t               三星\n",
       "4 -2015528097870762664      Xiaomi      红米Note2               小米"
      ]
     },
     "execution_count": 71,
     "metadata": {},
     "output_type": "execute_result"
    }
   ],
   "source": [
    "data_phone_final.head()"
   ]
  },
  {
   "cell_type": "code",
   "execution_count": 72,
   "metadata": {
    "scrolled": true
   },
   "outputs": [
    {
     "data": {
      "text/plain": [
       "device_id             phone_brand  device_model  phone_brand_copy\n",
       "-9202108340585996084  Lenovo       V5S           联想                  1\n",
       " 2933400578320518263  Lenovo       Grand X Quad  联想                  1\n",
       " 3010460780499485133  Lenovo       N986          联想                  1\n",
       " 3099915963792905380  Lenovo       G717C         联想                  1\n",
       " 3102654640898918860  Lenovo       U930          联想                  1\n",
       "                                                                    ..\n",
       "-3040256715311273894  Lenovo       Grand Memo 2  联想                  1\n",
       "-3033413179625185153  Lenovo       V5 Max        联想                  1\n",
       "-3020202422762517171  Lenovo       N881F         联想                  1\n",
       "-2987434471937862866  Lenovo       U956          联想                  1\n",
       " 9219560902355658593  Lenovo       Q505T         联想                  1\n",
       "Length: 982, dtype: int64"
      ]
     },
     "execution_count": 72,
     "metadata": {},
     "output_type": "execute_result"
    }
   ],
   "source": [
    "data_phone_final[data_phone_final['phone_brand'] == \"Lenovo\"].value_counts()"
   ]
  },
  {
   "cell_type": "code",
   "execution_count": 73,
   "metadata": {},
   "outputs": [],
   "source": [
    "data_phone_final.drop(['phone_brand_copy'], axis=1, inplace=True)"
   ]
  },
  {
   "cell_type": "code",
   "execution_count": 74,
   "metadata": {},
   "outputs": [
    {
     "data": {
      "text/html": [
       "<div>\n",
       "<style scoped>\n",
       "    .dataframe tbody tr th:only-of-type {\n",
       "        vertical-align: middle;\n",
       "    }\n",
       "\n",
       "    .dataframe tbody tr th {\n",
       "        vertical-align: top;\n",
       "    }\n",
       "\n",
       "    .dataframe thead th {\n",
       "        text-align: right;\n",
       "    }\n",
       "</style>\n",
       "<table border=\"1\" class=\"dataframe\">\n",
       "  <thead>\n",
       "    <tr style=\"text-align: right;\">\n",
       "      <th></th>\n",
       "      <th>device_id</th>\n",
       "      <th>phone_brand</th>\n",
       "      <th>device_model</th>\n",
       "    </tr>\n",
       "  </thead>\n",
       "  <tbody>\n",
       "    <tr>\n",
       "      <th>0</th>\n",
       "      <td>1877775838486905855</td>\n",
       "      <td>vivo</td>\n",
       "      <td>Y13</td>\n",
       "    </tr>\n",
       "    <tr>\n",
       "      <th>1</th>\n",
       "      <td>-3766087376657242966</td>\n",
       "      <td>Xiaomi</td>\n",
       "      <td>V183</td>\n",
       "    </tr>\n",
       "    <tr>\n",
       "      <th>2</th>\n",
       "      <td>-6238937574958215831</td>\n",
       "      <td>OPPO</td>\n",
       "      <td>R7s</td>\n",
       "    </tr>\n",
       "    <tr>\n",
       "      <th>3</th>\n",
       "      <td>8973197758510677470</td>\n",
       "      <td>Samsung</td>\n",
       "      <td>A368t</td>\n",
       "    </tr>\n",
       "    <tr>\n",
       "      <th>4</th>\n",
       "      <td>-2015528097870762664</td>\n",
       "      <td>Xiaomi</td>\n",
       "      <td>红米Note2</td>\n",
       "    </tr>\n",
       "  </tbody>\n",
       "</table>\n",
       "</div>"
      ],
      "text/plain": [
       "             device_id phone_brand device_model\n",
       "0  1877775838486905855        vivo          Y13\n",
       "1 -3766087376657242966      Xiaomi         V183\n",
       "2 -6238937574958215831        OPPO          R7s\n",
       "3  8973197758510677470     Samsung        A368t\n",
       "4 -2015528097870762664      Xiaomi      红米Note2"
      ]
     },
     "execution_count": 74,
     "metadata": {},
     "output_type": "execute_result"
    }
   ],
   "source": [
    "data_phone_final.head()"
   ]
  },
  {
   "cell_type": "code",
   "execution_count": 75,
   "metadata": {
    "scrolled": true
   },
   "outputs": [
    {
     "name": "stdout",
     "output_type": "stream",
     "text": [
      "<class 'pandas.core.frame.DataFrame'>\n",
      "RangeIndex: 87726 entries, 0 to 87725\n",
      "Data columns (total 3 columns):\n",
      " #   Column        Non-Null Count  Dtype \n",
      "---  ------        --------------  ----- \n",
      " 0   device_id     87726 non-null  int64 \n",
      " 1   phone_brand   87726 non-null  object\n",
      " 2   device_model  87726 non-null  object\n",
      "dtypes: int64(1), object(2)\n",
      "memory usage: 2.0+ MB\n"
     ]
    }
   ],
   "source": [
    "data_phone_final.info()"
   ]
  },
  {
   "cell_type": "code",
   "execution_count": 76,
   "metadata": {},
   "outputs": [],
   "source": [
    "data_phone_final['device_id']=data_phone_final['device_id'].astype('float')"
   ]
  },
  {
   "cell_type": "code",
   "execution_count": 77,
   "metadata": {},
   "outputs": [
    {
     "name": "stdout",
     "output_type": "stream",
     "text": [
      "<class 'pandas.core.frame.DataFrame'>\n",
      "RangeIndex: 87726 entries, 0 to 87725\n",
      "Data columns (total 3 columns):\n",
      " #   Column        Non-Null Count  Dtype  \n",
      "---  ------        --------------  -----  \n",
      " 0   device_id     87726 non-null  float64\n",
      " 1   phone_brand   87726 non-null  object \n",
      " 2   device_model  87726 non-null  object \n",
      "dtypes: float64(1), object(2)\n",
      "memory usage: 2.0+ MB\n"
     ]
    }
   ],
   "source": [
    "data_phone_final.info()"
   ]
  },
  {
   "cell_type": "markdown",
   "metadata": {},
   "source": [
    "# Pre-processing 'gender' data"
   ]
  },
  {
   "cell_type": "code",
   "execution_count": 78,
   "metadata": {},
   "outputs": [],
   "source": [
    "#import mysql.connector as connection\n",
    "#try:\n",
    "   # mydb = connection.connect(host=\"cpanel.insaid.co\", database =\"Capstone1\", user=\"student\", passwd=\"student\", use_pure=True)\n",
    "   # query = \"Select * from gender_age_train limit 100;\"\n",
    "   # result_dataFrame = pd.read_sql(query,mydb)\n",
    "   # mydb.close() #close the connection\n",
    "#except Exception as e:\n",
    "   # mydb.close()\n",
    "   # print(str(e))\n",
    "# print(result_dataFrame)"
   ]
  },
  {
   "cell_type": "code",
   "execution_count": 79,
   "metadata": {
    "scrolled": true
   },
   "outputs": [
    {
     "name": "stdout",
     "output_type": "stream",
     "text": [
      "Data Shape: (74645, 4)\n"
     ]
    },
    {
     "data": {
      "text/html": [
       "<div>\n",
       "<style scoped>\n",
       "    .dataframe tbody tr th:only-of-type {\n",
       "        vertical-align: middle;\n",
       "    }\n",
       "\n",
       "    .dataframe tbody tr th {\n",
       "        vertical-align: top;\n",
       "    }\n",
       "\n",
       "    .dataframe thead th {\n",
       "        text-align: right;\n",
       "    }\n",
       "</style>\n",
       "<table border=\"1\" class=\"dataframe\">\n",
       "  <thead>\n",
       "    <tr style=\"text-align: right;\">\n",
       "      <th></th>\n",
       "      <th>device_id</th>\n",
       "      <th>gender</th>\n",
       "      <th>age</th>\n",
       "      <th>group</th>\n",
       "    </tr>\n",
       "  </thead>\n",
       "  <tbody>\n",
       "    <tr>\n",
       "      <th>0</th>\n",
       "      <td>-8076087639492063270</td>\n",
       "      <td>M</td>\n",
       "      <td>35</td>\n",
       "      <td>M32-38</td>\n",
       "    </tr>\n",
       "    <tr>\n",
       "      <th>1</th>\n",
       "      <td>-2897161552818060146</td>\n",
       "      <td>M</td>\n",
       "      <td>35</td>\n",
       "      <td>M32-38</td>\n",
       "    </tr>\n",
       "    <tr>\n",
       "      <th>2</th>\n",
       "      <td>-8260683887967679142</td>\n",
       "      <td>M</td>\n",
       "      <td>35</td>\n",
       "      <td>M32-38</td>\n",
       "    </tr>\n",
       "    <tr>\n",
       "      <th>3</th>\n",
       "      <td>-4938849341048082022</td>\n",
       "      <td>M</td>\n",
       "      <td>30</td>\n",
       "      <td>M29-31</td>\n",
       "    </tr>\n",
       "    <tr>\n",
       "      <th>4</th>\n",
       "      <td>245133531816851882</td>\n",
       "      <td>M</td>\n",
       "      <td>30</td>\n",
       "      <td>M29-31</td>\n",
       "    </tr>\n",
       "  </tbody>\n",
       "</table>\n",
       "</div>"
      ],
      "text/plain": [
       "             device_id gender  age   group\n",
       "0 -8076087639492063270      M   35  M32-38\n",
       "1 -2897161552818060146      M   35  M32-38\n",
       "2 -8260683887967679142      M   35  M32-38\n",
       "3 -4938849341048082022      M   30  M29-31\n",
       "4   245133531816851882      M   30  M29-31"
      ]
     },
     "execution_count": 79,
     "metadata": {},
     "output_type": "execute_result"
    }
   ],
   "source": [
    "data_gender = pd.read_csv(filepath_or_buffer = \"gender_age_train.csv\")\n",
    "print('Data Shape:', data_gender.shape)\n",
    "data_gender.head()"
   ]
  },
  {
   "cell_type": "code",
   "execution_count": 80,
   "metadata": {},
   "outputs": [
    {
     "name": "stdout",
     "output_type": "stream",
     "text": [
      "<class 'pandas.core.frame.DataFrame'>\n",
      "RangeIndex: 74645 entries, 0 to 74644\n",
      "Data columns (total 4 columns):\n",
      " #   Column     Non-Null Count  Dtype \n",
      "---  ------     --------------  ----- \n",
      " 0   device_id  74645 non-null  int64 \n",
      " 1   gender     74645 non-null  object\n",
      " 2   age        74645 non-null  int64 \n",
      " 3   group      74645 non-null  object\n",
      "dtypes: int64(2), object(2)\n",
      "memory usage: 2.3+ MB\n"
     ]
    }
   ],
   "source": [
    "data_gender.info()"
   ]
  },
  {
   "cell_type": "code",
   "execution_count": 81,
   "metadata": {},
   "outputs": [
    {
     "data": {
      "text/plain": [
       "device_id    0\n",
       "gender       0\n",
       "age          0\n",
       "group        0\n",
       "dtype: int64"
      ]
     },
     "execution_count": 81,
     "metadata": {},
     "output_type": "execute_result"
    }
   ],
   "source": [
    "data_gender.shape[0]-data_gender.count()"
   ]
  },
  {
   "cell_type": "code",
   "execution_count": 82,
   "metadata": {},
   "outputs": [
    {
     "data": {
      "text/html": [
       "<div>\n",
       "<style scoped>\n",
       "    .dataframe tbody tr th:only-of-type {\n",
       "        vertical-align: middle;\n",
       "    }\n",
       "\n",
       "    .dataframe tbody tr th {\n",
       "        vertical-align: top;\n",
       "    }\n",
       "\n",
       "    .dataframe thead th {\n",
       "        text-align: right;\n",
       "    }\n",
       "</style>\n",
       "<table border=\"1\" class=\"dataframe\">\n",
       "  <thead>\n",
       "    <tr style=\"text-align: right;\">\n",
       "      <th></th>\n",
       "      <th>device_id</th>\n",
       "      <th>gender</th>\n",
       "      <th>age</th>\n",
       "      <th>group</th>\n",
       "    </tr>\n",
       "  </thead>\n",
       "  <tbody>\n",
       "    <tr>\n",
       "      <th>0</th>\n",
       "      <td>-8076087639492063270</td>\n",
       "      <td>M</td>\n",
       "      <td>35</td>\n",
       "      <td>M32-38</td>\n",
       "    </tr>\n",
       "    <tr>\n",
       "      <th>1</th>\n",
       "      <td>-2897161552818060146</td>\n",
       "      <td>M</td>\n",
       "      <td>35</td>\n",
       "      <td>M32-38</td>\n",
       "    </tr>\n",
       "    <tr>\n",
       "      <th>2</th>\n",
       "      <td>-8260683887967679142</td>\n",
       "      <td>M</td>\n",
       "      <td>35</td>\n",
       "      <td>M32-38</td>\n",
       "    </tr>\n",
       "    <tr>\n",
       "      <th>3</th>\n",
       "      <td>-4938849341048082022</td>\n",
       "      <td>M</td>\n",
       "      <td>30</td>\n",
       "      <td>M29-31</td>\n",
       "    </tr>\n",
       "    <tr>\n",
       "      <th>4</th>\n",
       "      <td>245133531816851882</td>\n",
       "      <td>M</td>\n",
       "      <td>30</td>\n",
       "      <td>M29-31</td>\n",
       "    </tr>\n",
       "  </tbody>\n",
       "</table>\n",
       "</div>"
      ],
      "text/plain": [
       "             device_id gender  age   group\n",
       "0 -8076087639492063270      M   35  M32-38\n",
       "1 -2897161552818060146      M   35  M32-38\n",
       "2 -8260683887967679142      M   35  M32-38\n",
       "3 -4938849341048082022      M   30  M29-31\n",
       "4   245133531816851882      M   30  M29-31"
      ]
     },
     "execution_count": 82,
     "metadata": {},
     "output_type": "execute_result"
    }
   ],
   "source": [
    "data_gender.head()"
   ]
  },
  {
   "cell_type": "code",
   "execution_count": 83,
   "metadata": {},
   "outputs": [
    {
     "data": {
      "text/plain": [
       "array(['M32-38', 'M29-31', 'F24-26', 'F33-42', 'F27-28', 'M39+', 'M23-26',\n",
       "       'M27-28', 'M22-', 'F43+', 'F23-', 'F29-32'], dtype=object)"
      ]
     },
     "execution_count": 83,
     "metadata": {},
     "output_type": "execute_result"
    }
   ],
   "source": [
    "data_gender['group'].unique()"
   ]
  },
  {
   "cell_type": "code",
   "execution_count": 84,
   "metadata": {},
   "outputs": [
    {
     "data": {
      "text/plain": [
       "array(['M', 'F'], dtype=object)"
      ]
     },
     "execution_count": 84,
     "metadata": {},
     "output_type": "execute_result"
    }
   ],
   "source": [
    "data_gender['gender'].unique()"
   ]
  },
  {
   "cell_type": "code",
   "execution_count": 85,
   "metadata": {},
   "outputs": [
    {
     "data": {
      "text/plain": [
       "device_id    47904\n",
       "gender       47904\n",
       "age          47904\n",
       "group        47904\n",
       "dtype: int64"
      ]
     },
     "execution_count": 85,
     "metadata": {},
     "output_type": "execute_result"
    }
   ],
   "source": [
    "data_gender[data_gender['gender'] == 'M'].count()"
   ]
  },
  {
   "cell_type": "code",
   "execution_count": 86,
   "metadata": {},
   "outputs": [
    {
     "data": {
      "text/plain": [
       "device_id    26741\n",
       "gender       26741\n",
       "age          26741\n",
       "group        26741\n",
       "dtype: int64"
      ]
     },
     "execution_count": 86,
     "metadata": {},
     "output_type": "execute_result"
    }
   ],
   "source": [
    "data_gender[data_gender['gender'] == 'F'].count()"
   ]
  },
  {
   "cell_type": "code",
   "execution_count": 87,
   "metadata": {
    "scrolled": true
   },
   "outputs": [
    {
     "data": {
      "text/plain": [
       "(array([    5,     9,    11, ..., 74630, 74631, 74638], dtype=int64),)"
      ]
     },
     "execution_count": 87,
     "metadata": {},
     "output_type": "execute_result"
    }
   ],
   "source": [
    "np.where(data_gender['gender']=='F')"
   ]
  },
  {
   "cell_type": "code",
   "execution_count": 88,
   "metadata": {},
   "outputs": [],
   "source": [
    "data_gender['device_id']=data_gender['device_id'].astype('float') #Converting device_id as float data type"
   ]
  },
  {
   "cell_type": "code",
   "execution_count": 89,
   "metadata": {},
   "outputs": [
    {
     "name": "stdout",
     "output_type": "stream",
     "text": [
      "<class 'pandas.core.frame.DataFrame'>\n",
      "RangeIndex: 74645 entries, 0 to 74644\n",
      "Data columns (total 4 columns):\n",
      " #   Column     Non-Null Count  Dtype  \n",
      "---  ------     --------------  -----  \n",
      " 0   device_id  74645 non-null  float64\n",
      " 1   gender     74645 non-null  object \n",
      " 2   age        74645 non-null  int64  \n",
      " 3   group      74645 non-null  object \n",
      "dtypes: float64(1), int64(1), object(2)\n",
      "memory usage: 2.3+ MB\n"
     ]
    }
   ],
   "source": [
    "data_gender.info()"
   ]
  },
  {
   "cell_type": "markdown",
   "metadata": {},
   "source": [
    "# Merging data set"
   ]
  },
  {
   "cell_type": "code",
   "execution_count": 90,
   "metadata": {},
   "outputs": [
    {
     "data": {
      "text/plain": [
       "3252950"
      ]
     },
     "execution_count": 90,
     "metadata": {},
     "output_type": "execute_result"
    }
   ],
   "source": [
    "df=pd.merge(data_final,data_gender,how='left',on='device_id')\n",
    "len(df)"
   ]
  },
  {
   "cell_type": "code",
   "execution_count": 91,
   "metadata": {},
   "outputs": [
    {
     "data": {
      "text/html": [
       "<div>\n",
       "<style scoped>\n",
       "    .dataframe tbody tr th:only-of-type {\n",
       "        vertical-align: middle;\n",
       "    }\n",
       "\n",
       "    .dataframe tbody tr th {\n",
       "        vertical-align: top;\n",
       "    }\n",
       "\n",
       "    .dataframe thead th {\n",
       "        text-align: right;\n",
       "    }\n",
       "</style>\n",
       "<table border=\"1\" class=\"dataframe\">\n",
       "  <thead>\n",
       "    <tr style=\"text-align: right;\">\n",
       "      <th></th>\n",
       "      <th>event_id</th>\n",
       "      <th>device_id</th>\n",
       "      <th>timestamp</th>\n",
       "      <th>longitude</th>\n",
       "      <th>latitude</th>\n",
       "      <th>city</th>\n",
       "      <th>state</th>\n",
       "      <th>gender</th>\n",
       "      <th>age</th>\n",
       "      <th>group</th>\n",
       "    </tr>\n",
       "  </thead>\n",
       "  <tbody>\n",
       "    <tr>\n",
       "      <th>0</th>\n",
       "      <td>2765368</td>\n",
       "      <td>2.973348e+18</td>\n",
       "      <td>2016-05-07 22:52:05</td>\n",
       "      <td>77.225676</td>\n",
       "      <td>28.730140</td>\n",
       "      <td>Delhi</td>\n",
       "      <td>Delhi</td>\n",
       "      <td>M</td>\n",
       "      <td>35</td>\n",
       "      <td>M32-38</td>\n",
       "    </tr>\n",
       "    <tr>\n",
       "      <th>1</th>\n",
       "      <td>2955066</td>\n",
       "      <td>4.734221e+18</td>\n",
       "      <td>2016-05-01 20:44:16</td>\n",
       "      <td>88.388361</td>\n",
       "      <td>22.660325</td>\n",
       "      <td>Calcutta</td>\n",
       "      <td>WestBengal</td>\n",
       "      <td>M</td>\n",
       "      <td>30</td>\n",
       "      <td>M29-31</td>\n",
       "    </tr>\n",
       "    <tr>\n",
       "      <th>2</th>\n",
       "      <td>605968</td>\n",
       "      <td>-3.264500e+18</td>\n",
       "      <td>2016-05-02 14:23:04</td>\n",
       "      <td>77.256809</td>\n",
       "      <td>28.757906</td>\n",
       "      <td>Delhi</td>\n",
       "      <td>Delhi</td>\n",
       "      <td>M</td>\n",
       "      <td>24</td>\n",
       "      <td>M23-26</td>\n",
       "    </tr>\n",
       "    <tr>\n",
       "      <th>3</th>\n",
       "      <td>448114</td>\n",
       "      <td>5.731369e+18</td>\n",
       "      <td>2016-05-03 13:21:16</td>\n",
       "      <td>80.343613</td>\n",
       "      <td>13.153332</td>\n",
       "      <td>Chennai</td>\n",
       "      <td>TamilNadu</td>\n",
       "      <td>M</td>\n",
       "      <td>26</td>\n",
       "      <td>M23-26</td>\n",
       "    </tr>\n",
       "    <tr>\n",
       "      <th>4</th>\n",
       "      <td>665740</td>\n",
       "      <td>3.388880e+17</td>\n",
       "      <td>2016-05-06 03:51:05</td>\n",
       "      <td>85.997745</td>\n",
       "      <td>23.842609</td>\n",
       "      <td>Bokaro</td>\n",
       "      <td>Jharkhand</td>\n",
       "      <td>M</td>\n",
       "      <td>30</td>\n",
       "      <td>M29-31</td>\n",
       "    </tr>\n",
       "  </tbody>\n",
       "</table>\n",
       "</div>"
      ],
      "text/plain": [
       "   event_id     device_id            timestamp  longitude   latitude  \\\n",
       "0   2765368  2.973348e+18  2016-05-07 22:52:05  77.225676  28.730140   \n",
       "1   2955066  4.734221e+18  2016-05-01 20:44:16  88.388361  22.660325   \n",
       "2    605968 -3.264500e+18  2016-05-02 14:23:04  77.256809  28.757906   \n",
       "3    448114  5.731369e+18  2016-05-03 13:21:16  80.343613  13.153332   \n",
       "4    665740  3.388880e+17  2016-05-06 03:51:05  85.997745  23.842609   \n",
       "\n",
       "       city       state gender  age   group  \n",
       "0     Delhi       Delhi      M   35  M32-38  \n",
       "1  Calcutta  WestBengal      M   30  M29-31  \n",
       "2     Delhi       Delhi      M   24  M23-26  \n",
       "3   Chennai   TamilNadu      M   26  M23-26  \n",
       "4    Bokaro   Jharkhand      M   30  M29-31  "
      ]
     },
     "execution_count": 91,
     "metadata": {},
     "output_type": "execute_result"
    }
   ],
   "source": [
    "df.head()"
   ]
  },
  {
   "cell_type": "code",
   "execution_count": 92,
   "metadata": {},
   "outputs": [
    {
     "data": {
      "text/plain": [
       "event_id     0\n",
       "device_id    0\n",
       "timestamp    0\n",
       "longitude    0\n",
       "latitude     0\n",
       "city         0\n",
       "state        0\n",
       "gender       0\n",
       "age          0\n",
       "group        0\n",
       "dtype: int64"
      ]
     },
     "execution_count": 92,
     "metadata": {},
     "output_type": "execute_result"
    }
   ],
   "source": [
    "df.isnull().sum()"
   ]
  },
  {
   "cell_type": "code",
   "execution_count": 93,
   "metadata": {},
   "outputs": [
    {
     "data": {
      "text/plain": [
       "3252950"
      ]
     },
     "execution_count": 93,
     "metadata": {},
     "output_type": "execute_result"
    }
   ],
   "source": [
    "df_final=pd.merge(df,data_phone_final,how='left',on='device_id')\n",
    "len(df_final)"
   ]
  },
  {
   "cell_type": "code",
   "execution_count": 94,
   "metadata": {},
   "outputs": [
    {
     "name": "stdout",
     "output_type": "stream",
     "text": [
      "<class 'pandas.core.frame.DataFrame'>\n",
      "Int64Index: 3252950 entries, 0 to 3252949\n",
      "Data columns (total 12 columns):\n",
      " #   Column        Dtype  \n",
      "---  ------        -----  \n",
      " 0   event_id      int64  \n",
      " 1   device_id     float64\n",
      " 2   timestamp     object \n",
      " 3   longitude     float64\n",
      " 4   latitude      float64\n",
      " 5   city          object \n",
      " 6   state         object \n",
      " 7   gender        object \n",
      " 8   age           int64  \n",
      " 9   group         object \n",
      " 10  phone_brand   object \n",
      " 11  device_model  object \n",
      "dtypes: float64(3), int64(2), object(7)\n",
      "memory usage: 322.6+ MB\n"
     ]
    }
   ],
   "source": [
    "df_final.info()"
   ]
  },
  {
   "cell_type": "code",
   "execution_count": 95,
   "metadata": {},
   "outputs": [
    {
     "data": {
      "text/plain": [
       "event_id        0\n",
       "device_id       0\n",
       "timestamp       0\n",
       "longitude       0\n",
       "latitude        0\n",
       "city            0\n",
       "state           0\n",
       "gender          0\n",
       "age             0\n",
       "group           0\n",
       "phone_brand     0\n",
       "device_model    0\n",
       "dtype: int64"
      ]
     },
     "execution_count": 95,
     "metadata": {},
     "output_type": "execute_result"
    }
   ],
   "source": [
    "df_final.isnull().sum()"
   ]
  },
  {
   "cell_type": "code",
   "execution_count": 96,
   "metadata": {},
   "outputs": [
    {
     "data": {
      "text/plain": [
       "['WestBengal', 'Karnataka', 'Gujarat', 'Bihar', 'Punjab', 'Kerala']"
      ]
     },
     "execution_count": 96,
     "metadata": {},
     "output_type": "execute_result"
    }
   ],
   "source": [
    "# Focus area - WestBengal, Karnataka, Gujarat, Bihar, Punjab, Kerala\n",
    "focus_state = ['WestBengal', 'Karnataka', 'Gujarat', 'Bihar', 'Punjab', 'Kerala']\n",
    "focus_state"
   ]
  },
  {
   "cell_type": "code",
   "execution_count": 97,
   "metadata": {},
   "outputs": [],
   "source": [
    "data_filter=df_final[df_final['state'].isin(focus_state)]"
   ]
  },
  {
   "cell_type": "code",
   "execution_count": 98,
   "metadata": {},
   "outputs": [
    {
     "data": {
      "text/html": [
       "<div>\n",
       "<style scoped>\n",
       "    .dataframe tbody tr th:only-of-type {\n",
       "        vertical-align: middle;\n",
       "    }\n",
       "\n",
       "    .dataframe tbody tr th {\n",
       "        vertical-align: top;\n",
       "    }\n",
       "\n",
       "    .dataframe thead th {\n",
       "        text-align: right;\n",
       "    }\n",
       "</style>\n",
       "<table border=\"1\" class=\"dataframe\">\n",
       "  <thead>\n",
       "    <tr style=\"text-align: right;\">\n",
       "      <th></th>\n",
       "      <th>event_id</th>\n",
       "      <th>device_id</th>\n",
       "      <th>timestamp</th>\n",
       "      <th>longitude</th>\n",
       "      <th>latitude</th>\n",
       "      <th>city</th>\n",
       "      <th>state</th>\n",
       "      <th>gender</th>\n",
       "      <th>age</th>\n",
       "      <th>group</th>\n",
       "      <th>phone_brand</th>\n",
       "      <th>device_model</th>\n",
       "    </tr>\n",
       "  </thead>\n",
       "  <tbody>\n",
       "    <tr>\n",
       "      <th>1</th>\n",
       "      <td>2955066</td>\n",
       "      <td>4.734221e+18</td>\n",
       "      <td>2016-05-01 20:44:16</td>\n",
       "      <td>88.388361</td>\n",
       "      <td>22.660325</td>\n",
       "      <td>Calcutta</td>\n",
       "      <td>WestBengal</td>\n",
       "      <td>M</td>\n",
       "      <td>30</td>\n",
       "      <td>M29-31</td>\n",
       "      <td>vivo</td>\n",
       "      <td>X5M</td>\n",
       "    </tr>\n",
       "    <tr>\n",
       "      <th>28</th>\n",
       "      <td>769546</td>\n",
       "      <td>-1.817502e+18</td>\n",
       "      <td>2016-05-01 14:07:23</td>\n",
       "      <td>88.371813</td>\n",
       "      <td>22.662852</td>\n",
       "      <td>Calcutta</td>\n",
       "      <td>WestBengal</td>\n",
       "      <td>F</td>\n",
       "      <td>43</td>\n",
       "      <td>F43+</td>\n",
       "      <td>OPPO</td>\n",
       "      <td>R819T</td>\n",
       "    </tr>\n",
       "    <tr>\n",
       "      <th>30</th>\n",
       "      <td>1750603</td>\n",
       "      <td>-5.598137e+18</td>\n",
       "      <td>2016-05-05 15:47:03</td>\n",
       "      <td>70.212684</td>\n",
       "      <td>23.118370</td>\n",
       "      <td>Gandhidham</td>\n",
       "      <td>Gujarat</td>\n",
       "      <td>M</td>\n",
       "      <td>23</td>\n",
       "      <td>M23-26</td>\n",
       "      <td>Meizu</td>\n",
       "      <td>MX3</td>\n",
       "    </tr>\n",
       "    <tr>\n",
       "      <th>31</th>\n",
       "      <td>3085968</td>\n",
       "      <td>-3.808297e+18</td>\n",
       "      <td>2016-05-07 01:25:47</td>\n",
       "      <td>75.513019</td>\n",
       "      <td>11.812367</td>\n",
       "      <td>Thalassery</td>\n",
       "      <td>Kerala</td>\n",
       "      <td>M</td>\n",
       "      <td>24</td>\n",
       "      <td>M23-26</td>\n",
       "      <td>vivo</td>\n",
       "      <td>X5L</td>\n",
       "    </tr>\n",
       "    <tr>\n",
       "      <th>39</th>\n",
       "      <td>1407594</td>\n",
       "      <td>-2.995508e+18</td>\n",
       "      <td>2016-05-03 20:01:35</td>\n",
       "      <td>77.805194</td>\n",
       "      <td>13.533295</td>\n",
       "      <td>ChikBallapur</td>\n",
       "      <td>Karnataka</td>\n",
       "      <td>M</td>\n",
       "      <td>29</td>\n",
       "      <td>M29-31</td>\n",
       "      <td>OPPO</td>\n",
       "      <td>R7 Plus</td>\n",
       "    </tr>\n",
       "  </tbody>\n",
       "</table>\n",
       "</div>"
      ],
      "text/plain": [
       "    event_id     device_id            timestamp  longitude   latitude  \\\n",
       "1    2955066  4.734221e+18  2016-05-01 20:44:16  88.388361  22.660325   \n",
       "28    769546 -1.817502e+18  2016-05-01 14:07:23  88.371813  22.662852   \n",
       "30   1750603 -5.598137e+18  2016-05-05 15:47:03  70.212684  23.118370   \n",
       "31   3085968 -3.808297e+18  2016-05-07 01:25:47  75.513019  11.812367   \n",
       "39   1407594 -2.995508e+18  2016-05-03 20:01:35  77.805194  13.533295   \n",
       "\n",
       "            city       state gender  age   group phone_brand device_model  \n",
       "1       Calcutta  WestBengal      M   30  M29-31        vivo          X5M  \n",
       "28      Calcutta  WestBengal      F   43    F43+        OPPO        R819T  \n",
       "30    Gandhidham     Gujarat      M   23  M23-26       Meizu          MX3  \n",
       "31    Thalassery      Kerala      M   24  M23-26        vivo          X5L  \n",
       "39  ChikBallapur   Karnataka      M   29  M29-31        OPPO      R7 Plus  "
      ]
     },
     "execution_count": 98,
     "metadata": {},
     "output_type": "execute_result"
    }
   ],
   "source": [
    "data_filter.head()"
   ]
  },
  {
   "cell_type": "code",
   "execution_count": 99,
   "metadata": {},
   "outputs": [
    {
     "name": "stdout",
     "output_type": "stream",
     "text": [
      "<class 'pandas.core.frame.DataFrame'>\n",
      "Int64Index: 422971 entries, 1 to 3252921\n",
      "Data columns (total 12 columns):\n",
      " #   Column        Non-Null Count   Dtype  \n",
      "---  ------        --------------   -----  \n",
      " 0   event_id      422971 non-null  int64  \n",
      " 1   device_id     422971 non-null  float64\n",
      " 2   timestamp     422971 non-null  object \n",
      " 3   longitude     422971 non-null  float64\n",
      " 4   latitude      422971 non-null  float64\n",
      " 5   city          422971 non-null  object \n",
      " 6   state         422971 non-null  object \n",
      " 7   gender        422971 non-null  object \n",
      " 8   age           422971 non-null  int64  \n",
      " 9   group         422971 non-null  object \n",
      " 10  phone_brand   422971 non-null  object \n",
      " 11  device_model  422971 non-null  object \n",
      "dtypes: float64(3), int64(2), object(7)\n",
      "memory usage: 42.0+ MB\n"
     ]
    }
   ],
   "source": [
    "data_filter.info()"
   ]
  },
  {
   "cell_type": "code",
   "execution_count": 100,
   "metadata": {
    "scrolled": true
   },
   "outputs": [
    {
     "data": {
      "text/plain": [
       "array(['WestBengal', 'Gujarat', 'Kerala', 'Karnataka', 'Punjab', 'Bihar'],\n",
       "      dtype=object)"
      ]
     },
     "execution_count": 100,
     "metadata": {},
     "output_type": "execute_result"
    }
   ],
   "source": [
    "data_filter['state'].unique()"
   ]
  },
  {
   "cell_type": "code",
   "execution_count": 101,
   "metadata": {},
   "outputs": [],
   "source": [
    "data_filter.to_csv(r'C:\\Users\\rahul_gupta17\\Downloads\\My_EDA_Data.csv', index=False)"
   ]
  },
  {
   "cell_type": "markdown",
   "metadata": {},
   "source": [
    "# Distribution of Users(device_id) across States"
   ]
  },
  {
   "cell_type": "code",
   "execution_count": 102,
   "metadata": {},
   "outputs": [
    {
     "data": {
      "text/plain": [
       "<AxesSubplot:xlabel='state'>"
      ]
     },
     "execution_count": 102,
     "metadata": {},
     "output_type": "execute_result"
    },
    {
     "data": {
      "image/png": "[encoded data removed]",
      "text/plain": [
       "<Figure size 432x288 with 1 Axes>"
      ]
     },
     "metadata": {
      "needs_background": "light"
     },
     "output_type": "display_data"
    }
   ],
   "source": [
    "data_filter.groupby('state')['device_id'].nunique().sort_values(ascending=False).plot(kind='bar')"
   ]
  },
  {
   "cell_type": "code",
   "execution_count": 103,
   "metadata": {
    "scrolled": false
   },
   "outputs": [
    {
     "data": {
      "text/plain": [
       "<AxesSubplot:ylabel='device_id'>"
      ]
     },
     "execution_count": 103,
     "metadata": {},
     "output_type": "execute_result"
    },
    {
     "data": {
      "image/png": "[encoded data removed]",
      "text/plain": [
       "<Figure size 1080x504 with 1 Axes>"
      ]
     },
     "metadata": {},
     "output_type": "display_data"
    }
   ],
   "source": [
    "figure=plt.figure(figsize=[15, 7])\n",
    "data_filter.groupby('state')['device_id'].nunique().sort_values(ascending=False).plot(kind='pie', fontsize=14, autopct='%3.1f%%', shadow=True, startangle=160)\n"
   ]
  },
  {
   "cell_type": "code",
   "execution_count": 104,
   "metadata": {},
   "outputs": [],
   "source": [
    "## West Bengal leads the maximum userbase with 39.1% followed by Karnataka with 34.1%.\n",
    "## West Bengal and Karnataka combinely contributes more than 73% of the total users"
   ]
  },
  {
   "cell_type": "markdown",
   "metadata": {},
   "source": [
    "# 2. Distribution of Users across Phone Brands(Consider only 10 Most used Phone Brands)"
   ]
  },
  {
   "cell_type": "code",
   "execution_count": 105,
   "metadata": {
    "scrolled": true
   },
   "outputs": [
    {
     "data": {
      "text/plain": [
       "<AxesSubplot:ylabel='device_id'>"
      ]
     },
     "execution_count": 105,
     "metadata": {},
     "output_type": "execute_result"
    },
    {
     "data": {
      "image/png": "[encoded data removed]",
      "text/plain": [
       "<Figure size 1080x504 with 1 Axes>"
      ]
     },
     "metadata": {},
     "output_type": "display_data"
    }
   ],
   "source": [
    "figure=plt.figure(figsize=[15, 7])\n",
    "data_filter.groupby('phone_brand')['device_id'].nunique().sort_values(ascending=False).head(10).plot(kind='pie', fontsize=14, autopct='%3.1f%%', shadow=True, startangle=160)\n"
   ]
  },
  {
   "cell_type": "code",
   "execution_count": 106,
   "metadata": {
    "scrolled": false
   },
   "outputs": [
    {
     "data": {
      "text/plain": [
       "<AxesSubplot:xlabel='phone_brand'>"
      ]
     },
     "execution_count": 106,
     "metadata": {},
     "output_type": "execute_result"
    },
    {
     "data": {
      "image/png": "[encoded data removed]",
      "text/plain": [
       "<Figure size 432x288 with 1 Axes>"
      ]
     },
     "metadata": {
      "needs_background": "light"
     },
     "output_type": "display_data"
    }
   ],
   "source": [
    "data_filter.groupby('phone_brand')['device_id'].nunique().sort_values(ascending=False).head(10).plot(kind='bar')"
   ]
  },
  {
   "cell_type": "code",
   "execution_count": 107,
   "metadata": {
    "scrolled": true
   },
   "outputs": [
    {
     "data": {
      "text/plain": [
       "phone_brand\n",
       "Xiaomi     4820\n",
       "Samsung    4004\n",
       "Huawei     3353\n",
       "vivo       1552\n",
       "OPPO       1524\n",
       "Meizu      1207\n",
       "Coolpad     867\n",
       "HTC         257\n",
       "LeEco       213\n",
       "Lenovo      189\n",
       "Name: device_id, dtype: int64"
      ]
     },
     "execution_count": 107,
     "metadata": {},
     "output_type": "execute_result"
    }
   ],
   "source": [
    "data_filter.groupby('phone_brand')['device_id'].nunique().sort_values(ascending=False).head(10)"
   ]
  },
  {
   "cell_type": "code",
   "execution_count": 108,
   "metadata": {},
   "outputs": [],
   "source": [
    "## Xiaomi is the market leader in phone market share of 26.8% followed by Samsung & Huawei having market share of 22.3 and 18.6 respectively."
   ]
  },
  {
   "cell_type": "markdown",
   "metadata": {},
   "source": [
    "# 3. Distribution of Users across Gender"
   ]
  },
  {
   "cell_type": "code",
   "execution_count": 109,
   "metadata": {
    "scrolled": true
   },
   "outputs": [
    {
     "data": {
      "text/plain": [
       "<AxesSubplot:ylabel='device_id'>"
      ]
     },
     "execution_count": 109,
     "metadata": {},
     "output_type": "execute_result"
    },
    {
     "data": {
      "image/png": "[encoded data removed]",
      "text/plain": [
       "<Figure size 1080x504 with 1 Axes>"
      ]
     },
     "metadata": {},
     "output_type": "display_data"
    }
   ],
   "source": [
    "figure=plt.figure(figsize=[15, 7])\n",
    "data_filter.groupby('gender')['device_id'].nunique().sort_values(ascending=False).plot(kind='pie', fontsize=14, autopct='%3.1f%%', shadow=True, startangle=160)"
   ]
  },
  {
   "cell_type": "code",
   "execution_count": 110,
   "metadata": {},
   "outputs": [],
   "source": [
    "## In gender perpective, clearly male dominant the mobile user segment having nearly two thirds share."
   ]
  },
  {
   "cell_type": "markdown",
   "metadata": {},
   "source": [
    "# 4. Distribution of Users across Age Segments."
   ]
  },
  {
   "cell_type": "code",
   "execution_count": 111,
   "metadata": {},
   "outputs": [
    {
     "data": {
      "text/plain": [
       "11"
      ]
     },
     "execution_count": 111,
     "metadata": {},
     "output_type": "execute_result"
    }
   ],
   "source": [
    "data_filter.age.min()"
   ]
  },
  {
   "cell_type": "code",
   "execution_count": 112,
   "metadata": {},
   "outputs": [
    {
     "data": {
      "text/plain": [
       "88"
      ]
     },
     "execution_count": 112,
     "metadata": {},
     "output_type": "execute_result"
    }
   ],
   "source": [
    "data_filter.age.max()"
   ]
  },
  {
   "cell_type": "code",
   "execution_count": 113,
   "metadata": {
    "scrolled": false
   },
   "outputs": [
    {
     "data": {
      "text/html": [
       "<div>\n",
       "<style scoped>\n",
       "    .dataframe tbody tr th:only-of-type {\n",
       "        vertical-align: middle;\n",
       "    }\n",
       "\n",
       "    .dataframe tbody tr th {\n",
       "        vertical-align: top;\n",
       "    }\n",
       "\n",
       "    .dataframe thead th {\n",
       "        text-align: right;\n",
       "    }\n",
       "</style>\n",
       "<table border=\"1\" class=\"dataframe\">\n",
       "  <thead>\n",
       "    <tr style=\"text-align: right;\">\n",
       "      <th></th>\n",
       "      <th>event_id</th>\n",
       "      <th>device_id</th>\n",
       "      <th>timestamp</th>\n",
       "      <th>longitude</th>\n",
       "      <th>latitude</th>\n",
       "      <th>city</th>\n",
       "      <th>state</th>\n",
       "      <th>gender</th>\n",
       "      <th>age</th>\n",
       "      <th>group</th>\n",
       "      <th>phone_brand</th>\n",
       "      <th>device_model</th>\n",
       "      <th>age_segment</th>\n",
       "    </tr>\n",
       "  </thead>\n",
       "  <tbody>\n",
       "    <tr>\n",
       "      <th>1</th>\n",
       "      <td>2955066</td>\n",
       "      <td>4.734221e+18</td>\n",
       "      <td>2016-05-01 20:44:16</td>\n",
       "      <td>88.388361</td>\n",
       "      <td>22.660325</td>\n",
       "      <td>Calcutta</td>\n",
       "      <td>WestBengal</td>\n",
       "      <td>M</td>\n",
       "      <td>30</td>\n",
       "      <td>M29-31</td>\n",
       "      <td>vivo</td>\n",
       "      <td>X5M</td>\n",
       "      <td>21-30</td>\n",
       "    </tr>\n",
       "    <tr>\n",
       "      <th>28</th>\n",
       "      <td>769546</td>\n",
       "      <td>-1.817502e+18</td>\n",
       "      <td>2016-05-01 14:07:23</td>\n",
       "      <td>88.371813</td>\n",
       "      <td>22.662852</td>\n",
       "      <td>Calcutta</td>\n",
       "      <td>WestBengal</td>\n",
       "      <td>F</td>\n",
       "      <td>43</td>\n",
       "      <td>F43+</td>\n",
       "      <td>OPPO</td>\n",
       "      <td>R819T</td>\n",
       "      <td>41-50</td>\n",
       "    </tr>\n",
       "    <tr>\n",
       "      <th>30</th>\n",
       "      <td>1750603</td>\n",
       "      <td>-5.598137e+18</td>\n",
       "      <td>2016-05-05 15:47:03</td>\n",
       "      <td>70.212684</td>\n",
       "      <td>23.118370</td>\n",
       "      <td>Gandhidham</td>\n",
       "      <td>Gujarat</td>\n",
       "      <td>M</td>\n",
       "      <td>23</td>\n",
       "      <td>M23-26</td>\n",
       "      <td>Meizu</td>\n",
       "      <td>MX3</td>\n",
       "      <td>21-30</td>\n",
       "    </tr>\n",
       "    <tr>\n",
       "      <th>31</th>\n",
       "      <td>3085968</td>\n",
       "      <td>-3.808297e+18</td>\n",
       "      <td>2016-05-07 01:25:47</td>\n",
       "      <td>75.513019</td>\n",
       "      <td>11.812367</td>\n",
       "      <td>Thalassery</td>\n",
       "      <td>Kerala</td>\n",
       "      <td>M</td>\n",
       "      <td>24</td>\n",
       "      <td>M23-26</td>\n",
       "      <td>vivo</td>\n",
       "      <td>X5L</td>\n",
       "      <td>21-30</td>\n",
       "    </tr>\n",
       "    <tr>\n",
       "      <th>39</th>\n",
       "      <td>1407594</td>\n",
       "      <td>-2.995508e+18</td>\n",
       "      <td>2016-05-03 20:01:35</td>\n",
       "      <td>77.805194</td>\n",
       "      <td>13.533295</td>\n",
       "      <td>ChikBallapur</td>\n",
       "      <td>Karnataka</td>\n",
       "      <td>M</td>\n",
       "      <td>29</td>\n",
       "      <td>M29-31</td>\n",
       "      <td>OPPO</td>\n",
       "      <td>R7 Plus</td>\n",
       "      <td>21-30</td>\n",
       "    </tr>\n",
       "  </tbody>\n",
       "</table>\n",
       "</div>"
      ],
      "text/plain": [
       "    event_id     device_id            timestamp  longitude   latitude  \\\n",
       "1    2955066  4.734221e+18  2016-05-01 20:44:16  88.388361  22.660325   \n",
       "28    769546 -1.817502e+18  2016-05-01 14:07:23  88.371813  22.662852   \n",
       "30   1750603 -5.598137e+18  2016-05-05 15:47:03  70.212684  23.118370   \n",
       "31   3085968 -3.808297e+18  2016-05-07 01:25:47  75.513019  11.812367   \n",
       "39   1407594 -2.995508e+18  2016-05-03 20:01:35  77.805194  13.533295   \n",
       "\n",
       "            city       state gender  age   group phone_brand device_model  \\\n",
       "1       Calcutta  WestBengal      M   30  M29-31        vivo          X5M   \n",
       "28      Calcutta  WestBengal      F   43    F43+        OPPO        R819T   \n",
       "30    Gandhidham     Gujarat      M   23  M23-26       Meizu          MX3   \n",
       "31    Thalassery      Kerala      M   24  M23-26        vivo          X5L   \n",
       "39  ChikBallapur   Karnataka      M   29  M29-31        OPPO      R7 Plus   \n",
       "\n",
       "   age_segment  \n",
       "1        21-30  \n",
       "28       41-50  \n",
       "30       21-30  \n",
       "31       21-30  \n",
       "39       21-30  "
      ]
     },
     "execution_count": 113,
     "metadata": {},
     "output_type": "execute_result"
    }
   ],
   "source": [
    "labels=['11-20','21-30','31-40','41-50','51-60','61-70','71-80','81-90']\n",
    "data_filter['age_segment'] = pd.cut(data_filter.age,bins=np.arange(10,100,10),labels=labels,right=True)\n",
    "data_filter.head()"
   ]
  },
  {
   "cell_type": "code",
   "execution_count": 114,
   "metadata": {
    "scrolled": true
   },
   "outputs": [
    {
     "data": {
      "text/plain": [
       "21-30    212482\n",
       "31-40    112328\n",
       "41-50     46622\n",
       "11-20     29829\n",
       "51-60     14486\n",
       "61-70      5908\n",
       "71-80      1110\n",
       "81-90       206\n",
       "Name: age_segment, dtype: int64"
      ]
     },
     "execution_count": 114,
     "metadata": {},
     "output_type": "execute_result"
    }
   ],
   "source": [
    "data_filter['age_segment'].value_counts()"
   ]
  },
  {
   "cell_type": "code",
   "execution_count": 115,
   "metadata": {
    "scrolled": true
   },
   "outputs": [
    {
     "data": {
      "text/plain": [
       "<AxesSubplot:xlabel='age_segment', ylabel='count'>"
      ]
     },
     "execution_count": 115,
     "metadata": {},
     "output_type": "execute_result"
    },
    {
     "data": {
      "image/png": "[encoded data removed]",
      "text/plain": [
       "<Figure size 1080x720 with 1 Axes>"
      ]
     },
     "metadata": {
      "needs_background": "light"
     },
     "output_type": "display_data"
    }
   ],
   "source": [
    "plt.figure(figsize= (15,10))\n",
    "\n",
    "plt.subplot(2,2,1)\n",
    "sns.countplot('age_segment', hue='gender', data=data_filter) #order=data_filter.sort_values('gender').age_segment)"
   ]
  },
  {
   "cell_type": "code",
   "execution_count": 116,
   "metadata": {},
   "outputs": [
    {
     "data": {
      "text/plain": [
       "<AxesSubplot:ylabel='device_id'>"
      ]
     },
     "execution_count": 116,
     "metadata": {},
     "output_type": "execute_result"
    },
    {
     "data": {
      "image/png": "[encoded data removed]",
      "text/plain": [
       "<Figure size 1080x504 with 1 Axes>"
      ]
     },
     "metadata": {},
     "output_type": "display_data"
    }
   ],
   "source": [
    "figure=plt.figure(figsize=[15, 7])\n",
    "data_filter.groupby('age_segment')['device_id'].nunique().sort_values(ascending=False).plot(kind='pie', fontsize=14, autopct='%3.1f%%', shadow=False, startangle=180)"
   ]
  },
  {
   "cell_type": "markdown",
   "metadata": {},
   "source": [
    "# 5. Distribution of Phone Brands(Consider only the 10 Most used Phone Brands) for each Age Segment, State, and Gender"
   ]
  },
  {
   "cell_type": "code",
   "execution_count": 117,
   "metadata": {
    "scrolled": true
   },
   "outputs": [
    {
     "data": {
      "text/plain": [
       "['Xiaomi',\n",
       " 'Samsung',\n",
       " 'Huawei',\n",
       " 'vivo',\n",
       " 'OPPO',\n",
       " 'Meizu',\n",
       " 'Coolpad',\n",
       " 'HTC',\n",
       " 'LeEco',\n",
       " 'Lenovo']"
      ]
     },
     "execution_count": 117,
     "metadata": {},
     "output_type": "execute_result"
    }
   ],
   "source": [
    "top_brand = ['Xiaomi', 'Samsung', 'Huawei', 'vivo', 'OPPO', 'Meizu', 'Coolpad', 'HTC', 'LeEco', 'Lenovo' ]\n",
    "top_brand"
   ]
  },
  {
   "cell_type": "code",
   "execution_count": 118,
   "metadata": {
    "scrolled": false
   },
   "outputs": [
    {
     "data": {
      "text/html": [
       "<div>\n",
       "<style scoped>\n",
       "    .dataframe tbody tr th:only-of-type {\n",
       "        vertical-align: middle;\n",
       "    }\n",
       "\n",
       "    .dataframe tbody tr th {\n",
       "        vertical-align: top;\n",
       "    }\n",
       "\n",
       "    .dataframe thead th {\n",
       "        text-align: right;\n",
       "    }\n",
       "</style>\n",
       "<table border=\"1\" class=\"dataframe\">\n",
       "  <thead>\n",
       "    <tr style=\"text-align: right;\">\n",
       "      <th></th>\n",
       "      <th>event_id</th>\n",
       "      <th>device_id</th>\n",
       "      <th>timestamp</th>\n",
       "      <th>longitude</th>\n",
       "      <th>latitude</th>\n",
       "      <th>city</th>\n",
       "      <th>state</th>\n",
       "      <th>gender</th>\n",
       "      <th>age</th>\n",
       "      <th>group</th>\n",
       "      <th>phone_brand</th>\n",
       "      <th>device_model</th>\n",
       "      <th>age_segment</th>\n",
       "    </tr>\n",
       "  </thead>\n",
       "  <tbody>\n",
       "    <tr>\n",
       "      <th>1</th>\n",
       "      <td>2955066</td>\n",
       "      <td>4.734221e+18</td>\n",
       "      <td>2016-05-01 20:44:16</td>\n",
       "      <td>88.388361</td>\n",
       "      <td>22.660325</td>\n",
       "      <td>Calcutta</td>\n",
       "      <td>WestBengal</td>\n",
       "      <td>M</td>\n",
       "      <td>30</td>\n",
       "      <td>M29-31</td>\n",
       "      <td>vivo</td>\n",
       "      <td>X5M</td>\n",
       "      <td>21-30</td>\n",
       "    </tr>\n",
       "    <tr>\n",
       "      <th>28</th>\n",
       "      <td>769546</td>\n",
       "      <td>-1.817502e+18</td>\n",
       "      <td>2016-05-01 14:07:23</td>\n",
       "      <td>88.371813</td>\n",
       "      <td>22.662852</td>\n",
       "      <td>Calcutta</td>\n",
       "      <td>WestBengal</td>\n",
       "      <td>F</td>\n",
       "      <td>43</td>\n",
       "      <td>F43+</td>\n",
       "      <td>OPPO</td>\n",
       "      <td>R819T</td>\n",
       "      <td>41-50</td>\n",
       "    </tr>\n",
       "    <tr>\n",
       "      <th>30</th>\n",
       "      <td>1750603</td>\n",
       "      <td>-5.598137e+18</td>\n",
       "      <td>2016-05-05 15:47:03</td>\n",
       "      <td>70.212684</td>\n",
       "      <td>23.118370</td>\n",
       "      <td>Gandhidham</td>\n",
       "      <td>Gujarat</td>\n",
       "      <td>M</td>\n",
       "      <td>23</td>\n",
       "      <td>M23-26</td>\n",
       "      <td>Meizu</td>\n",
       "      <td>MX3</td>\n",
       "      <td>21-30</td>\n",
       "    </tr>\n",
       "    <tr>\n",
       "      <th>31</th>\n",
       "      <td>3085968</td>\n",
       "      <td>-3.808297e+18</td>\n",
       "      <td>2016-05-07 01:25:47</td>\n",
       "      <td>75.513019</td>\n",
       "      <td>11.812367</td>\n",
       "      <td>Thalassery</td>\n",
       "      <td>Kerala</td>\n",
       "      <td>M</td>\n",
       "      <td>24</td>\n",
       "      <td>M23-26</td>\n",
       "      <td>vivo</td>\n",
       "      <td>X5L</td>\n",
       "      <td>21-30</td>\n",
       "    </tr>\n",
       "    <tr>\n",
       "      <th>39</th>\n",
       "      <td>1407594</td>\n",
       "      <td>-2.995508e+18</td>\n",
       "      <td>2016-05-03 20:01:35</td>\n",
       "      <td>77.805194</td>\n",
       "      <td>13.533295</td>\n",
       "      <td>ChikBallapur</td>\n",
       "      <td>Karnataka</td>\n",
       "      <td>M</td>\n",
       "      <td>29</td>\n",
       "      <td>M29-31</td>\n",
       "      <td>OPPO</td>\n",
       "      <td>R7 Plus</td>\n",
       "      <td>21-30</td>\n",
       "    </tr>\n",
       "  </tbody>\n",
       "</table>\n",
       "</div>"
      ],
      "text/plain": [
       "    event_id     device_id            timestamp  longitude   latitude  \\\n",
       "1    2955066  4.734221e+18  2016-05-01 20:44:16  88.388361  22.660325   \n",
       "28    769546 -1.817502e+18  2016-05-01 14:07:23  88.371813  22.662852   \n",
       "30   1750603 -5.598137e+18  2016-05-05 15:47:03  70.212684  23.118370   \n",
       "31   3085968 -3.808297e+18  2016-05-07 01:25:47  75.513019  11.812367   \n",
       "39   1407594 -2.995508e+18  2016-05-03 20:01:35  77.805194  13.533295   \n",
       "\n",
       "            city       state gender  age   group phone_brand device_model  \\\n",
       "1       Calcutta  WestBengal      M   30  M29-31        vivo          X5M   \n",
       "28      Calcutta  WestBengal      F   43    F43+        OPPO        R819T   \n",
       "30    Gandhidham     Gujarat      M   23  M23-26       Meizu          MX3   \n",
       "31    Thalassery      Kerala      M   24  M23-26        vivo          X5L   \n",
       "39  ChikBallapur   Karnataka      M   29  M29-31        OPPO      R7 Plus   \n",
       "\n",
       "   age_segment  \n",
       "1        21-30  \n",
       "28       41-50  \n",
       "30       21-30  \n",
       "31       21-30  \n",
       "39       21-30  "
      ]
     },
     "execution_count": 118,
     "metadata": {},
     "output_type": "execute_result"
    }
   ],
   "source": [
    "top_brand_data=data_filter[data_filter['phone_brand'].isin(top_brand)]\n",
    "top_brand_data.head()"
   ]
  },
  {
   "cell_type": "code",
   "execution_count": 119,
   "metadata": {},
   "outputs": [],
   "source": [
    "top_brand_data_final=top_brand_data.drop_duplicates(subset='device_id')"
   ]
  },
  {
   "cell_type": "code",
   "execution_count": 120,
   "metadata": {},
   "outputs": [
    {
     "name": "stdout",
     "output_type": "stream",
     "text": [
      "<class 'pandas.core.frame.DataFrame'>\n",
      "Int64Index: 17986 entries, 1 to 3252525\n",
      "Data columns (total 13 columns):\n",
      " #   Column        Non-Null Count  Dtype   \n",
      "---  ------        --------------  -----   \n",
      " 0   event_id      17986 non-null  int64   \n",
      " 1   device_id     17986 non-null  float64 \n",
      " 2   timestamp     17986 non-null  object  \n",
      " 3   longitude     17986 non-null  float64 \n",
      " 4   latitude      17986 non-null  float64 \n",
      " 5   city          17986 non-null  object  \n",
      " 6   state         17986 non-null  object  \n",
      " 7   gender        17986 non-null  object  \n",
      " 8   age           17986 non-null  int64   \n",
      " 9   group         17986 non-null  object  \n",
      " 10  phone_brand   17986 non-null  object  \n",
      " 11  device_model  17986 non-null  object  \n",
      " 12  age_segment   17986 non-null  category\n",
      "dtypes: category(1), float64(3), int64(2), object(7)\n",
      "memory usage: 1.8+ MB\n"
     ]
    }
   ],
   "source": [
    "top_brand_data_final.info()"
   ]
  },
  {
   "cell_type": "code",
   "execution_count": 121,
   "metadata": {
    "scrolled": true
   },
   "outputs": [
    {
     "name": "stdout",
     "output_type": "stream",
     "text": [
      "<class 'pandas.core.frame.DataFrame'>\n",
      "Int64Index: 400212 entries, 1 to 3252921\n",
      "Data columns (total 13 columns):\n",
      " #   Column        Non-Null Count   Dtype   \n",
      "---  ------        --------------   -----   \n",
      " 0   event_id      400212 non-null  int64   \n",
      " 1   device_id     400212 non-null  float64 \n",
      " 2   timestamp     400212 non-null  object  \n",
      " 3   longitude     400212 non-null  float64 \n",
      " 4   latitude      400212 non-null  float64 \n",
      " 5   city          400212 non-null  object  \n",
      " 6   state         400212 non-null  object  \n",
      " 7   gender        400212 non-null  object  \n",
      " 8   age           400212 non-null  int64   \n",
      " 9   group         400212 non-null  object  \n",
      " 10  phone_brand   400212 non-null  object  \n",
      " 11  device_model  400212 non-null  object  \n",
      " 12  age_segment   400212 non-null  category\n",
      "dtypes: category(1), float64(3), int64(2), object(7)\n",
      "memory usage: 40.1+ MB\n"
     ]
    }
   ],
   "source": [
    "top_brand_data.info()"
   ]
  },
  {
   "cell_type": "code",
   "execution_count": 122,
   "metadata": {
    "scrolled": true
   },
   "outputs": [
    {
     "data": {
      "text/plain": [
       "[Text(0.5, 1.0, 'Top Phone Brand By Gender')]"
      ]
     },
     "execution_count": 122,
     "metadata": {},
     "output_type": "execute_result"
    },
    {
     "data": {
      "image/png": "[encoded data removed]",
      "text/plain": [
       "<Figure size 1080x1080 with 3 Axes>"
      ]
     },
     "metadata": {
      "needs_background": "light"
     },
     "output_type": "display_data"
    }
   ],
   "source": [
    "plt.figure(figsize= (15,15))\n",
    "\n",
    "plt.subplot(3,1,1)\n",
    "sns.countplot('phone_brand', hue='age_segment', data=top_brand_data_final).set(title='Top Phone Brand By Age Segment')\n",
    "\n",
    "plt.subplot(3,1,2)\n",
    "sns.countplot('phone_brand', hue='state', data=top_brand_data_final).set(title='Top Phone Brand By State')\n",
    "\n",
    "plt.subplot(3,1,3)\n",
    "sns.countplot('phone_brand', hue='gender', data=top_brand_data_final).set(title='Top Phone Brand By Gender')"
   ]
  },
  {
   "cell_type": "markdown",
   "metadata": {},
   "source": [
    "# 6. Distribution of Gender for each State, Age Segment and Phone Brand(Consider only the 10 Most used Phone Brands)."
   ]
  },
  {
   "cell_type": "code",
   "execution_count": 123,
   "metadata": {},
   "outputs": [],
   "source": [
    "data_filter_final=data_filter.drop_duplicates(subset='device_id')"
   ]
  },
  {
   "cell_type": "code",
   "execution_count": 124,
   "metadata": {
    "scrolled": true
   },
   "outputs": [
    {
     "name": "stdout",
     "output_type": "stream",
     "text": [
      "<class 'pandas.core.frame.DataFrame'>\n",
      "Int64Index: 19032 entries, 1 to 3252525\n",
      "Data columns (total 13 columns):\n",
      " #   Column        Non-Null Count  Dtype   \n",
      "---  ------        --------------  -----   \n",
      " 0   event_id      19032 non-null  int64   \n",
      " 1   device_id     19032 non-null  float64 \n",
      " 2   timestamp     19032 non-null  object  \n",
      " 3   longitude     19032 non-null  float64 \n",
      " 4   latitude      19032 non-null  float64 \n",
      " 5   city          19032 non-null  object  \n",
      " 6   state         19032 non-null  object  \n",
      " 7   gender        19032 non-null  object  \n",
      " 8   age           19032 non-null  int64   \n",
      " 9   group         19032 non-null  object  \n",
      " 10  phone_brand   19032 non-null  object  \n",
      " 11  device_model  19032 non-null  object  \n",
      " 12  age_segment   19032 non-null  category\n",
      "dtypes: category(1), float64(3), int64(2), object(7)\n",
      "memory usage: 1.9+ MB\n"
     ]
    }
   ],
   "source": [
    "data_filter_final.info()"
   ]
  },
  {
   "cell_type": "code",
   "execution_count": 125,
   "metadata": {
    "scrolled": true
   },
   "outputs": [
    {
     "data": {
      "text/plain": [
       "[Text(0.5, 1.0, 'Gender By Top Phone Brand')]"
      ]
     },
     "execution_count": 125,
     "metadata": {},
     "output_type": "execute_result"
    },
    {
     "data": {
      "image/png": "[encoded data removed]",
      "text/plain": [
       "<Figure size 1080x1080 with 3 Axes>"
      ]
     },
     "metadata": {
      "needs_background": "light"
     },
     "output_type": "display_data"
    }
   ],
   "source": [
    "plt.figure(figsize= (15,15))\n",
    "\n",
    "plt.subplot(3,2,1)\n",
    "sns.countplot('gender', hue='state', data=data_filter_final).set(title='Gender By State')\n",
    "\n",
    "plt.subplot(3,2,2)\n",
    "sns.countplot('gender', hue='age_segment', data=data_filter_final).set(title='Gender By Age Segment')\n",
    "\n",
    "plt.subplot(3,2,3)\n",
    "sns.countplot('gender', hue='phone_brand', data=top_brand_data_final).set(title='Gender By Top Phone Brand')"
   ]
  },
  {
   "cell_type": "code",
   "execution_count": 126,
   "metadata": {},
   "outputs": [
    {
     "data": {
      "text/plain": [
       "gender       \n",
       "F       21-30    3475\n",
       "        31-40    1700\n",
       "        41-50     807\n",
       "        11-20     442\n",
       "        51-60     300\n",
       "        61-70     127\n",
       "        71-80      27\n",
       "        81-90       2\n",
       "M       21-30    6001\n",
       "        31-40    3368\n",
       "        41-50    1277\n",
       "        11-20     949\n",
       "        51-60     370\n",
       "        61-70     148\n",
       "        71-80      32\n",
       "        81-90       7\n",
       "Name: age_segment, dtype: int64"
      ]
     },
     "execution_count": 126,
     "metadata": {},
     "output_type": "execute_result"
    }
   ],
   "source": [
    "data_filter_final.groupby('gender')['age_segment'].value_counts()"
   ]
  },
  {
   "cell_type": "markdown",
   "metadata": {},
   "source": [
    "# 7. Distribution of Age Segments for each State, Gender and Phone Brand(Consider only the 10 Most used Phone Brands)."
   ]
  },
  {
   "cell_type": "code",
   "execution_count": 127,
   "metadata": {
    "scrolled": true
   },
   "outputs": [
    {
     "data": {
      "text/plain": [
       "[Text(0.5, 1.0, 'Age Segment By Top Phone Brand')]"
      ]
     },
     "execution_count": 127,
     "metadata": {},
     "output_type": "execute_result"
    },
    {
     "data": {
      "image/png": "[encoded data removed]",
      "text/plain": [
       "<Figure size 1080x1080 with 3 Axes>"
      ]
     },
     "metadata": {
      "needs_background": "light"
     },
     "output_type": "display_data"
    }
   ],
   "source": [
    "plt.figure(figsize= (15,15))\n",
    "\n",
    "plt.subplot(3,1,1)\n",
    "sns.countplot('age_segment', hue='state', data=data_filter_final).set(title='Age Segment By State')\n",
    "\n",
    "plt.subplot(3,1,2)\n",
    "sns.countplot('age_segment', hue='gender', data=data_filter_final).set(title='Age Segment By Gender')\n",
    "\n",
    "plt.subplot(3,1,3)\n",
    "sns.countplot('age_segment', hue='phone_brand', data=top_brand_data_final).set(title='Age Segment By Top Phone Brand')"
   ]
  },
  {
   "cell_type": "code",
   "execution_count": 128,
   "metadata": {
    "scrolled": true
   },
   "outputs": [
    {
     "data": {
      "text/plain": [
       "age_segment  gender\n",
       "11-20        M          949\n",
       "             F          442\n",
       "21-30        M         6001\n",
       "             F         3475\n",
       "31-40        M         3368\n",
       "             F         1700\n",
       "41-50        M         1277\n",
       "             F          807\n",
       "51-60        M          370\n",
       "             F          300\n",
       "61-70        M          148\n",
       "             F          127\n",
       "71-80        M           32\n",
       "             F           27\n",
       "81-90        M            7\n",
       "             F            2\n",
       "Name: gender, dtype: int64"
      ]
     },
     "execution_count": 128,
     "metadata": {},
     "output_type": "execute_result"
    }
   ],
   "source": [
    "data_filter_final.groupby('age_segment')['gender'].value_counts()"
   ]
  },
  {
   "cell_type": "code",
   "execution_count": 129,
   "metadata": {},
   "outputs": [
    {
     "data": {
      "text/plain": [
       "age_segment  phone_brand\n",
       "11-20        Xiaomi         362\n",
       "             Samsung        243\n",
       "             Huawei         207\n",
       "             OPPO           160\n",
       "             vivo           129\n",
       "                           ... \n",
       "81-90        Xiaomi           2\n",
       "             HTC              1\n",
       "             Huawei           1\n",
       "             OPPO             1\n",
       "             vivo             1\n",
       "Name: phone_brand, Length: 73, dtype: int64"
      ]
     },
     "execution_count": 129,
     "metadata": {},
     "output_type": "execute_result"
    }
   ],
   "source": [
    "top_brand_data_final.groupby('age_segment')['phone_brand'].value_counts()"
   ]
  },
  {
   "cell_type": "markdown",
   "metadata": {},
   "source": [
    "# 8. Hourly distribution of Phone Calls."
   ]
  },
  {
   "cell_type": "code",
   "execution_count": 130,
   "metadata": {},
   "outputs": [
    {
     "name": "stdout",
     "output_type": "stream",
     "text": [
      "<class 'pandas.core.frame.DataFrame'>\n",
      "Int64Index: 422971 entries, 1 to 3252921\n",
      "Data columns (total 13 columns):\n",
      " #   Column        Non-Null Count   Dtype   \n",
      "---  ------        --------------   -----   \n",
      " 0   event_id      422971 non-null  int64   \n",
      " 1   device_id     422971 non-null  float64 \n",
      " 2   timestamp     422971 non-null  object  \n",
      " 3   longitude     422971 non-null  float64 \n",
      " 4   latitude      422971 non-null  float64 \n",
      " 5   city          422971 non-null  object  \n",
      " 6   state         422971 non-null  object  \n",
      " 7   gender        422971 non-null  object  \n",
      " 8   age           422971 non-null  int64   \n",
      " 9   group         422971 non-null  object  \n",
      " 10  phone_brand   422971 non-null  object  \n",
      " 11  device_model  422971 non-null  object  \n",
      " 12  age_segment   422971 non-null  category\n",
      "dtypes: category(1), float64(3), int64(2), object(7)\n",
      "memory usage: 58.5+ MB\n"
     ]
    }
   ],
   "source": [
    "data_filter.info()"
   ]
  },
  {
   "cell_type": "code",
   "execution_count": 131,
   "metadata": {},
   "outputs": [],
   "source": [
    "data_filter[\"timestamp\"] = pd.to_datetime(data_filter[\"timestamp\"])"
   ]
  },
  {
   "cell_type": "code",
   "execution_count": 132,
   "metadata": {
    "scrolled": true
   },
   "outputs": [
    {
     "name": "stdout",
     "output_type": "stream",
     "text": [
      "<class 'pandas.core.frame.DataFrame'>\n",
      "Int64Index: 422971 entries, 1 to 3252921\n",
      "Data columns (total 13 columns):\n",
      " #   Column        Non-Null Count   Dtype         \n",
      "---  ------        --------------   -----         \n",
      " 0   event_id      422971 non-null  int64         \n",
      " 1   device_id     422971 non-null  float64       \n",
      " 2   timestamp     422971 non-null  datetime64[ns]\n",
      " 3   longitude     422971 non-null  float64       \n",
      " 4   latitude      422971 non-null  float64       \n",
      " 5   city          422971 non-null  object        \n",
      " 6   state         422971 non-null  object        \n",
      " 7   gender        422971 non-null  object        \n",
      " 8   age           422971 non-null  int64         \n",
      " 9   group         422971 non-null  object        \n",
      " 10  phone_brand   422971 non-null  object        \n",
      " 11  device_model  422971 non-null  object        \n",
      " 12  age_segment   422971 non-null  category      \n",
      "dtypes: category(1), datetime64[ns](1), float64(3), int64(2), object(6)\n",
      "memory usage: 58.5+ MB\n"
     ]
    }
   ],
   "source": [
    "data_filter.info()"
   ]
  },
  {
   "cell_type": "code",
   "execution_count": 133,
   "metadata": {
    "scrolled": false
   },
   "outputs": [
    {
     "data": {
      "text/plain": [
       "1          20\n",
       "28         14\n",
       "30         15\n",
       "31          1\n",
       "39         20\n",
       "           ..\n",
       "3252865     7\n",
       "3252899     8\n",
       "3252901     7\n",
       "3252903    17\n",
       "3252921    14\n",
       "Name: timestamp, Length: 422971, dtype: int64"
      ]
     },
     "execution_count": 133,
     "metadata": {},
     "output_type": "execute_result"
    }
   ],
   "source": [
    "data_filter[\"timestamp\"].dt.hour"
   ]
  },
  {
   "cell_type": "code",
   "execution_count": 134,
   "metadata": {},
   "outputs": [],
   "source": [
    "data_filter['hours']=data_filter[\"timestamp\"].dt.hour"
   ]
  },
  {
   "cell_type": "code",
   "execution_count": 135,
   "metadata": {},
   "outputs": [
    {
     "data": {
      "text/html": [
       "<div>\n",
       "<style scoped>\n",
       "    .dataframe tbody tr th:only-of-type {\n",
       "        vertical-align: middle;\n",
       "    }\n",
       "\n",
       "    .dataframe tbody tr th {\n",
       "        vertical-align: top;\n",
       "    }\n",
       "\n",
       "    .dataframe thead th {\n",
       "        text-align: right;\n",
       "    }\n",
       "</style>\n",
       "<table border=\"1\" class=\"dataframe\">\n",
       "  <thead>\n",
       "    <tr style=\"text-align: right;\">\n",
       "      <th></th>\n",
       "      <th>event_id</th>\n",
       "      <th>device_id</th>\n",
       "      <th>timestamp</th>\n",
       "      <th>longitude</th>\n",
       "      <th>latitude</th>\n",
       "      <th>city</th>\n",
       "      <th>state</th>\n",
       "      <th>gender</th>\n",
       "      <th>age</th>\n",
       "      <th>group</th>\n",
       "      <th>phone_brand</th>\n",
       "      <th>device_model</th>\n",
       "      <th>age_segment</th>\n",
       "      <th>hours</th>\n",
       "    </tr>\n",
       "  </thead>\n",
       "  <tbody>\n",
       "    <tr>\n",
       "      <th>1</th>\n",
       "      <td>2955066</td>\n",
       "      <td>4.734221e+18</td>\n",
       "      <td>2016-05-01 20:44:16</td>\n",
       "      <td>88.388361</td>\n",
       "      <td>22.660325</td>\n",
       "      <td>Calcutta</td>\n",
       "      <td>WestBengal</td>\n",
       "      <td>M</td>\n",
       "      <td>30</td>\n",
       "      <td>M29-31</td>\n",
       "      <td>vivo</td>\n",
       "      <td>X5M</td>\n",
       "      <td>21-30</td>\n",
       "      <td>20</td>\n",
       "    </tr>\n",
       "    <tr>\n",
       "      <th>28</th>\n",
       "      <td>769546</td>\n",
       "      <td>-1.817502e+18</td>\n",
       "      <td>2016-05-01 14:07:23</td>\n",
       "      <td>88.371813</td>\n",
       "      <td>22.662852</td>\n",
       "      <td>Calcutta</td>\n",
       "      <td>WestBengal</td>\n",
       "      <td>F</td>\n",
       "      <td>43</td>\n",
       "      <td>F43+</td>\n",
       "      <td>OPPO</td>\n",
       "      <td>R819T</td>\n",
       "      <td>41-50</td>\n",
       "      <td>14</td>\n",
       "    </tr>\n",
       "    <tr>\n",
       "      <th>30</th>\n",
       "      <td>1750603</td>\n",
       "      <td>-5.598137e+18</td>\n",
       "      <td>2016-05-05 15:47:03</td>\n",
       "      <td>70.212684</td>\n",
       "      <td>23.118370</td>\n",
       "      <td>Gandhidham</td>\n",
       "      <td>Gujarat</td>\n",
       "      <td>M</td>\n",
       "      <td>23</td>\n",
       "      <td>M23-26</td>\n",
       "      <td>Meizu</td>\n",
       "      <td>MX3</td>\n",
       "      <td>21-30</td>\n",
       "      <td>15</td>\n",
       "    </tr>\n",
       "    <tr>\n",
       "      <th>31</th>\n",
       "      <td>3085968</td>\n",
       "      <td>-3.808297e+18</td>\n",
       "      <td>2016-05-07 01:25:47</td>\n",
       "      <td>75.513019</td>\n",
       "      <td>11.812367</td>\n",
       "      <td>Thalassery</td>\n",
       "      <td>Kerala</td>\n",
       "      <td>M</td>\n",
       "      <td>24</td>\n",
       "      <td>M23-26</td>\n",
       "      <td>vivo</td>\n",
       "      <td>X5L</td>\n",
       "      <td>21-30</td>\n",
       "      <td>1</td>\n",
       "    </tr>\n",
       "    <tr>\n",
       "      <th>39</th>\n",
       "      <td>1407594</td>\n",
       "      <td>-2.995508e+18</td>\n",
       "      <td>2016-05-03 20:01:35</td>\n",
       "      <td>77.805194</td>\n",
       "      <td>13.533295</td>\n",
       "      <td>ChikBallapur</td>\n",
       "      <td>Karnataka</td>\n",
       "      <td>M</td>\n",
       "      <td>29</td>\n",
       "      <td>M29-31</td>\n",
       "      <td>OPPO</td>\n",
       "      <td>R7 Plus</td>\n",
       "      <td>21-30</td>\n",
       "      <td>20</td>\n",
       "    </tr>\n",
       "  </tbody>\n",
       "</table>\n",
       "</div>"
      ],
      "text/plain": [
       "    event_id     device_id           timestamp  longitude   latitude  \\\n",
       "1    2955066  4.734221e+18 2016-05-01 20:44:16  88.388361  22.660325   \n",
       "28    769546 -1.817502e+18 2016-05-01 14:07:23  88.371813  22.662852   \n",
       "30   1750603 -5.598137e+18 2016-05-05 15:47:03  70.212684  23.118370   \n",
       "31   3085968 -3.808297e+18 2016-05-07 01:25:47  75.513019  11.812367   \n",
       "39   1407594 -2.995508e+18 2016-05-03 20:01:35  77.805194  13.533295   \n",
       "\n",
       "            city       state gender  age   group phone_brand device_model  \\\n",
       "1       Calcutta  WestBengal      M   30  M29-31        vivo          X5M   \n",
       "28      Calcutta  WestBengal      F   43    F43+        OPPO        R819T   \n",
       "30    Gandhidham     Gujarat      M   23  M23-26       Meizu          MX3   \n",
       "31    Thalassery      Kerala      M   24  M23-26        vivo          X5L   \n",
       "39  ChikBallapur   Karnataka      M   29  M29-31        OPPO      R7 Plus   \n",
       "\n",
       "   age_segment  hours  \n",
       "1        21-30     20  \n",
       "28       41-50     14  \n",
       "30       21-30     15  \n",
       "31       21-30      1  \n",
       "39       21-30     20  "
      ]
     },
     "execution_count": 135,
     "metadata": {},
     "output_type": "execute_result"
    }
   ],
   "source": [
    "data_filter.head()"
   ]
  },
  {
   "cell_type": "code",
   "execution_count": 136,
   "metadata": {
    "scrolled": true
   },
   "outputs": [
    {
     "data": {
      "text/plain": [
       "<AxesSubplot:xlabel='hours'>"
      ]
     },
     "execution_count": 136,
     "metadata": {},
     "output_type": "execute_result"
    },
    {
     "data": {
      "image/png": "[encoded data removed]",
      "text/plain": [
       "<Figure size 720x360 with 1 Axes>"
      ]
     },
     "metadata": {
      "needs_background": "light"
     },
     "output_type": "display_data"
    }
   ],
   "source": [
    "plt.figure(figsize= (10,5))\n",
    "sns.set_style('whitegrid')\n",
    "sns.distplot(data_filter.hours, kde=False, norm_hist=True, bins=24) #l, kde=False, norm_hist=True, bins=3"
   ]
  },
  {
   "cell_type": "markdown",
   "metadata": {},
   "source": [
    "# 9. Plot the Users on the Map using any suitable package."
   ]
  },
  {
   "cell_type": "code",
   "execution_count": 137,
   "metadata": {
    "scrolled": true
   },
   "outputs": [
    {
     "data": {
      "text/plain": [
       "'C:\\\\Users\\\\rahul_gupta17\\\\Downloads\\\\Map_Telecom.html'"
      ]
     },
     "execution_count": 137,
     "metadata": {},
     "output_type": "execute_result"
    }
   ],
   "source": [
    "import plotly.express as px\n",
    "import plotly\n",
    "\n",
    "fig=px.scatter_geo(data_filter, \n",
    "                   lat='latitude', lon='longitude', \n",
    "                   hover_name=\"city\", \n",
    "                   color=\"state\", \n",
    "                   projection=\"natural earth\")\n",
    "fig.update_layout(geo_scope='asia', height=300, margin={\"r\":0,\"t\":0,\"l\":0,\"b\":0})\n",
    "\n",
    "plotly.offline.plot(fig, filename = 'C:\\\\Users\\\\rahul_gupta17\\\\Downloads\\\\Map_Telecom.html', auto_open=True)"
   ]
  },
  {
   "cell_type": "code",
   "execution_count": null,
   "metadata": {},
   "outputs": [],
   "source": []
  }
 ],
 "metadata": {
  "kernelspec": {
   "display_name": "Python 3 (ipykernel)",
   "language": "python",
   "name": "python3"
  },
  "language_info": {
   "codemirror_mode": {
    "name": "ipython",
    "version": 3
   },
   "file_extension": ".py",
   "mimetype": "text/x-python",
   "name": "python",
   "nbconvert_exporter": "python",
   "pygments_lexer": "ipython3",
   "version": "3.9.13"
  }
 },
 "nbformat": 4,
 "nbformat_minor": 2
}
